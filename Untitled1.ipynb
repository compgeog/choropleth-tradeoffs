{
 "cells": [
  {
   "cell_type": "markdown",
   "id": "a2cee479-e0b1-4d80-8a04-ee9b380aae05",
   "metadata": {},
   "source": [
    "https://www.movable-type.co.uk/scripts/latlong.html\n",
    "\n",
    "$\\phi_2 = \\arcsin(\\sin \\phi_1 \\cos \\delta + \\cos \\phi_1 \\sin \\delta \\cos \\theta)$\n",
    "\n",
    "$\\lambda_2 = \\lambda_1 + \\arctan2(\\sin \\theta \\sin \\delta \\cos \\phi_1, \\cos \\delta - \\sin \\phi_1 \\sin \\phi_2)$\n",
    "\n",
    "\n",
    "$\\phi$ = latitude  \n",
    "$\\lambda$ = longitude  \n",
    "$\\theta$ = the bearing (clockwise from north)  \n",
    "$\\delta$ = the angular distance d/R  \n",
    "$d$ = distance traveled  \n",
    "$R$ = earth radius  \n"
   ]
  },
  {
   "cell_type": "code",
   "execution_count": null,
   "id": "949b7904-4b71-46d4-a9b3-dbdbb201664a",
   "metadata": {},
   "outputs": [],
   "source": [
    "Formula:\tφ2 = asin( sin φ1 ⋅ cos δ + cos φ1 ⋅ sin δ ⋅ cos θ )\n",
    "λ2 = λ1 + atan2( sin θ ⋅ sin δ ⋅ cos φ1, cos δ − sin φ1 ⋅ sin φ2 )\n",
    "where\tφ is latitude, λ is longitude, θ is the bearing (clockwise from north), δ is the angular distance d/R; \n",
    "d being the distance travelled, R the earth’s radius"
   ]
  },
  {
   "cell_type": "code",
   "execution_count": 2,
   "id": "8344b65d-04a9-4591-aaa2-444ae2735093",
   "metadata": {},
   "outputs": [],
   "source": [
    "from math import *"
   ]
  },
  {
   "cell_type": "code",
   "execution_count": 3,
   "id": "8f4b574e-6d20-4224-8f75-8ba57421d395",
   "metadata": {},
   "outputs": [
    {
     "data": {
      "text/plain": [
       "0.0"
      ]
     },
     "execution_count": 3,
     "metadata": {},
     "output_type": "execute_result"
    }
   ],
   "source": [
    "atan2(0, 0)"
   ]
  },
  {
   "cell_type": "code",
   "execution_count": 4,
   "id": "85a11926-d421-4de5-9ac7-e29abc16f922",
   "metadata": {},
   "outputs": [
    {
     "data": {
      "text/plain": [
       "0.0"
      ]
     },
     "execution_count": 4,
     "metadata": {},
     "output_type": "execute_result"
    }
   ],
   "source": [
    "asin(0)"
   ]
  },
  {
   "cell_type": "code",
   "execution_count": 6,
   "id": "adeffc3e-5003-4478-a7e7-77486e2aa39f",
   "metadata": {},
   "outputs": [
    {
     "data": {
      "text/plain": [
       "0.5000000000000001"
      ]
     },
     "execution_count": 6,
     "metadata": {},
     "output_type": "execute_result"
    }
   ],
   "source": [
    "cos(2/3*pi/2)"
   ]
  },
  {
   "cell_type": "code",
   "execution_count": 49,
   "id": "74183b55-221c-4924-966b-28bec8d51974",
   "metadata": {},
   "outputs": [
    {
     "data": {
      "text/plain": [
       "111.31949079327357"
      ]
     },
     "execution_count": 49,
     "metadata": {},
     "output_type": "execute_result"
    }
   ],
   "source": [
    "R = 6378.137 # earch radius in km, WGS 84\n",
    "\n",
    "2*pi*R/360 # per degree"
   ]
  },
  {
   "cell_type": "code",
   "execution_count": 51,
   "id": "b2995242-0210-4e99-a3bd-4ef4effc098d",
   "metadata": {},
   "outputs": [
    {
     "data": {
      "text/plain": [
       "3963.190591943052"
      ]
     },
     "execution_count": 51,
     "metadata": {},
     "output_type": "execute_result"
    }
   ],
   "source": [
    "R / 1.609344"
   ]
  },
  {
   "cell_type": "code",
   "execution_count": 7,
   "id": "65f1fd49-db83-4e92-9a2e-7cf76b452df8",
   "metadata": {},
   "outputs": [],
   "source": [
    "from math import *\n",
    "\n",
    "bearing_look_up = {\n",
    "    'N': 0,\n",
    "    'NNE': 22.5,\n",
    "    'NE': 45,\n",
    "    'NEE': 67.5,\n",
    "    'E': 90,\n",
    "    'SEE': 112.5,\n",
    "    'SE': 135,\n",
    "    'SSE': 157.5,\n",
    "    'S': 180,\n",
    "    'SSW': 202.5,\n",
    "    'SW': 225,\n",
    "    'SWW': 247.5,\n",
    "    'W': 270,\n",
    "    'NWW': 292.5,\n",
    "    'NW': 315,\n",
    "    'NNW': 337.5\n",
    "}\n",
    "\n",
    "def find_point(lon, lat, bearing, distance, bearing_unit='letters', distance_unit='NM'):\n",
    "    '''\n",
    "    lon            - longitude in degree of the source/reference point, float\n",
    "    lat            - latitude in degree of the source/reference point, float\n",
    "    bearing        - bearing of travel, clockwise from north (e.g., NW, N, etc.)\n",
    "    distance       - distance\n",
    "    bearing_unit   - unit of bearing reading, default is 'letters' (see above lookup table), otherwise degrees\n",
    "                     if input in letters doesn't exist, use 0\n",
    "    distance_unit  - distance unit, NM is nautical miles (default), M is regular miles, KM or others is kilometers\n",
    "    '''\n",
    "    if distance_unit.upper() == 'NM':\n",
    "        distance = distance * 1.852     # convert nm to km\n",
    "    elif distance_unit.upper() == 'M':\n",
    "        distance = distance * 1.609344  # convert regular/statute mile to km\n",
    "    R = 6378.137                        # equitorial earth radius in km, WGS 84\n",
    "    delta = distance/R\n",
    "\n",
    "    if bearing_unit == 'letters':\n",
    "        if bearing in bearing_look_up:\n",
    "            bearing = bearing_look_up[bearing]\n",
    "        else:\n",
    "            bearing = 0\n",
    "    bearing = radians(bearing) # convert to radians\n",
    "    \n",
    "    lon1 = radians(lon)\n",
    "    lat1 = radians(lat)\n",
    "    lat2 = asin(sin(lat1) * cos(delta) + cos(lat1) * sin(delta) * cos(bearing))\n",
    "    lon2 = lon1 + atan2(sin(bearing)*sin(delta)*cos(lat1), cos(delta)-sin(lat1)*sin(lat2))\n",
    "    return degrees(lon2), degrees(lat2)"
   ]
  },
  {
   "cell_type": "code",
   "execution_count": 8,
   "id": "d823eaf0-faf0-463b-9bc0-a99f7e13f529",
   "metadata": {},
   "outputs": [
    {
     "data": {
      "text/plain": [
       "(0.0, 1.0)"
      ]
     },
     "execution_count": 8,
     "metadata": {},
     "output_type": "execute_result"
    }
   ],
   "source": [
    "find_point(0, 0, 'N', 111.31949079327357 / 1.852) # nautical miles per degree"
   ]
  },
  {
   "cell_type": "code",
   "execution_count": 9,
   "id": "d9bb2cd5-8b9c-4b2e-9e02-d96649c3ca1d",
   "metadata": {},
   "outputs": [
    {
     "data": {
      "text/plain": [
       "(0.0, 0.9999998506397716)"
      ]
     },
     "execution_count": 9,
     "metadata": {},
     "output_type": "execute_result"
    }
   ],
   "source": [
    "find_point(0, 0, 'N', 69.17071438211407, distance_unit='m') # 69.17071438211407 is miles per degree"
   ]
  },
  {
   "cell_type": "code",
   "execution_count": 10,
   "id": "8457ec56-56f5-4b55-8a85-80108dc3391b",
   "metadata": {},
   "outputs": [
    {
     "data": {
      "text/plain": [
       "(0.0, 1.0)"
      ]
     },
     "execution_count": 10,
     "metadata": {},
     "output_type": "execute_result"
    }
   ],
   "source": [
    "find_point(0, 0, 'N', 111.31949079327357, distance_unit='km')"
   ]
  },
  {
   "cell_type": "code",
   "execution_count": 12,
   "id": "7b8a26d2-5273-4a54-9c19-b9c56b33c748",
   "metadata": {},
   "outputs": [
    {
     "data": {
      "text/plain": [
       "(-1.9993911360601413, 59.98488884027578)"
      ]
     },
     "execution_count": 12,
     "metadata": {},
     "output_type": "execute_result"
    }
   ],
   "source": [
    "find_point(0, 60, 'W', 111.31949079327357, distance_unit='km')"
   ]
  },
  {
   "cell_type": "code",
   "execution_count": 13,
   "id": "1f88b470-9fa0-4f63-babb-00dc7c02ee5d",
   "metadata": {},
   "outputs": [
    {
     "data": {
      "text/plain": [
       "(10.0, 61.0)"
      ]
     },
     "execution_count": 13,
     "metadata": {},
     "output_type": "execute_result"
    }
   ],
   "source": [
    "find_point(10, 60, 'N', 111.31949079327357 / 1.852)"
   ]
  },
  {
   "cell_type": "code",
   "execution_count": 14,
   "id": "efe515ad-41e4-483a-9b02-4470dfd40b21",
   "metadata": {},
   "outputs": [
    {
     "data": {
      "text/plain": [
       "(-93.18087701950189, 10.720295107747258)"
      ]
     },
     "execution_count": 14,
     "metadata": {},
     "output_type": "execute_result"
    }
   ],
   "source": [
    "row = ['SW', '255', '13.737727, -90.129119', '']\n",
    "point = row[2].split(', ')\n",
    "\n",
    "lon = float(point[1])\n",
    "lat = float(point[0])\n",
    "distance = float(row[1])\n",
    "bearing = row[0]\n",
    "\n",
    "find_point(lon, lat, bearing, distance)"
   ]
  },
  {
   "cell_type": "code",
   "execution_count": null,
   "id": "9a3af15a-ce4a-4f89-8f06-36c574892a9e",
   "metadata": {},
   "outputs": [],
   "source": []
  },
  {
   "cell_type": "code",
   "execution_count": null,
   "id": "3a662c6a-d8b8-42f2-a7a7-458183be8764",
   "metadata": {},
   "outputs": [],
   "source": []
  }
 ],
 "metadata": {
  "kernelspec": {
   "display_name": "Python 3 (ipykernel)",
   "language": "python",
   "name": "python3"
  },
  "language_info": {
   "codemirror_mode": {
    "name": "ipython",
    "version": 3
   },
   "file_extension": ".py",
   "mimetype": "text/x-python",
   "name": "python",
   "nbconvert_exporter": "python",
   "pygments_lexer": "ipython3",
   "version": "3.8.10"
  }
 },
 "nbformat": 4,
 "nbformat_minor": 5
}
