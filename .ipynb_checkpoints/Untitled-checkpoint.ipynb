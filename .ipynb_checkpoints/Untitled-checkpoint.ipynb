{
 "cells": [
  {
   "cell_type": "markdown",
   "id": "0c3970bd-476c-401b-963a-12bb8d8c382a",
   "metadata": {},
   "source": [
    "<p><a href=\"https://colab.research.google.com/github/gisalgs/notebooks/blob/main/computational_issues-colab.ipynb\"><img src=\"https://colab.research.google.com/assets/colab-badge.svg\" alt=\"Open In Colab\"/></a></p>    "
   ]
  },
  {
   "cell_type": "markdown",
   "id": "fe4762ed-4565-4118-b416-b640be7dcf5a",
   "metadata": {},
   "source": [
    "# Exploring Classification Tradeoffs for Choropleth Maps\n"
   ]
  },
  {
   "cell_type": "code",
   "execution_count": 1,
   "id": "3527d041-fa23-467a-b3de-aa5be4366ac3",
   "metadata": {
    "tags": []
   },
   "outputs": [
    {
     "name": "stdout",
     "output_type": "stream",
     "text": [
      "Cloning into 'geom'...\n",
      "remote: Enumerating objects: 314, done.\u001b[K\n",
      "remote: Total 314 (delta 0), reused 0 (delta 0), pack-reused 314\u001b[K\n",
      "Receiving objects: 100% (314/314), 57.03 KiB | 478.00 KiB/s, done.\n",
      "Resolving deltas: 100% (177/177), done.\n",
      "Cloning into 'spatialanalysis'...\n",
      "remote: Enumerating objects: 16, done.\u001b[K\n",
      "remote: Total 16 (delta 0), reused 0 (delta 0), pack-reused 16\u001b[K\n",
      "Receiving objects: 100% (16/16), done.\n",
      "Resolving deltas: 100% (6/6), done.\n"
     ]
    }
   ],
   "source": [
    "!git clone git@github.com:gisalgs/geom.git \n",
    "!git clone git@github.com:gisalgs/spatialanalysis.git "
   ]
  },
  {
   "cell_type": "code",
   "execution_count": 1,
   "id": "c41b618a-77ed-4e15-a288-299eb79ff8d6",
   "metadata": {},
   "outputs": [
    {
     "name": "stdout",
     "output_type": "stream",
     "text": [
      "Requirement already satisfied: ray in /home/xiao/.local/lib/python3.9/site-packages (1.9.0)\n",
      "Requirement already satisfied: protobuf>=3.15.3 in /home/xiao/.local/lib/python3.9/site-packages (from ray) (3.19.1)\n",
      "Requirement already satisfied: numpy>=1.19.3 in /usr/lib/python3/dist-packages (from ray) (1.19.5)\n",
      "Requirement already satisfied: filelock in /home/xiao/.local/lib/python3.9/site-packages (from ray) (3.4.0)\n",
      "Requirement already satisfied: pyyaml in /usr/lib/python3/dist-packages (from ray) (5.3.1)\n",
      "Requirement already satisfied: grpcio>=1.28.1 in /home/xiao/.local/lib/python3.9/site-packages (from ray) (1.42.0)\n",
      "Requirement already satisfied: jsonschema in /usr/local/lib/python3.9/dist-packages (from ray) (4.2.1)\n",
      "Requirement already satisfied: msgpack<2.0.0,>=1.0.0 in /home/xiao/.local/lib/python3.9/site-packages (from ray) (1.0.3)\n",
      "Requirement already satisfied: click>=7.0 in /usr/lib/python3/dist-packages (from ray) (7.1.2)\n",
      "Requirement already satisfied: attrs in /usr/local/lib/python3.9/dist-packages (from ray) (21.2.0)\n",
      "Requirement already satisfied: redis>=3.5.0 in /home/xiao/.local/lib/python3.9/site-packages (from ray) (4.0.2)\n",
      "Requirement already satisfied: six>=1.5.2 in /usr/lib/python3/dist-packages (from grpcio>=1.28.1->ray) (1.16.0)\n",
      "Requirement already satisfied: deprecated in /home/xiao/.local/lib/python3.9/site-packages (from redis>=3.5.0->ray) (1.2.13)\n",
      "Requirement already satisfied: wrapt<2,>=1.10 in /home/xiao/.local/lib/python3.9/site-packages (from deprecated->redis>=3.5.0->ray) (1.13.3)\n",
      "Requirement already satisfied: pyrsistent!=0.17.0,!=0.17.1,!=0.17.2,>=0.14.0 in /usr/local/lib/python3.9/dist-packages (from jsonschema->ray) (0.18.0)\n"
     ]
    }
   ],
   "source": [
    "!pip install ray"
   ]
  },
  {
   "cell_type": "code",
   "execution_count": 1,
   "id": "bceaf9dd-58ea-45e9-8477-17b1d496598d",
   "metadata": {},
   "outputs": [],
   "source": [
    "from geom.shapex import *\n",
    "from spatialanalysis.moransi2 import *\n",
    "from util.get_adjacency_matrix import *\n",
    "from util.draw_polygons_shapex import *\n",
    "from util.get_attribute_by_name import *\n",
    "from util.evaluate_all import *\n",
    "from util.pareto_ranking import *\n",
    "from util.parallel_coordinates import *\n",
    "from util.xcolorbrewer import *\n",
    "from util.breakpoints2 import *\n",
    "import ray\n",
    "from os import cpu_count"
   ]
  },
  {
   "cell_type": "code",
   "execution_count": 2,
   "id": "4e2b72cc-0b6a-4584-acea-68e6e699f75f",
   "metadata": {},
   "outputs": [],
   "source": [
    "import time\n",
    "import random\n",
    "\n",
    "import matplotlib.pyplot as plt\n",
    "%matplotlib inline"
   ]
  },
  {
   "cell_type": "code",
   "execution_count": 3,
   "id": "bac550d6-0c96-4c7b-bc53-502b08476f06",
   "metadata": {},
   "outputs": [],
   "source": [
    "shpfname = 'data/il/il.shp'\n",
    "attrname = 'FARM_PROD'\n",
    "\n",
    "shp = shapex(shpfname)\n",
    "\n",
    "adjacency_list = adjacency_matrix(shp, output='L')\n",
    "\n",
    "all_values = get_shp_attribute_by_name(shp, attrname)\n",
    "all_areas = get_shp_attribute_by_name(shp, 'AREA')\n",
    "\n",
    "numclass = 5\n",
    "\n",
    "m = len(all_values) # number of data"
   ]
  },
  {
   "cell_type": "markdown",
   "id": "b6bef9bb-bd97-4ad8-b307-0f6c06f5954e",
   "metadata": {},
   "source": [
    "Get the unique values:"
   ]
  },
  {
   "cell_type": "code",
   "execution_count": 4,
   "id": "4c5b8131-16ec-493a-a76e-a8cb1faaa32d",
   "metadata": {},
   "outputs": [
    {
     "name": "stdout",
     "output_type": "stream",
     "text": [
      "101 102 15.57 155.3\n"
     ]
    }
   ],
   "source": [
    "unique_values = list(set(all_values))\n",
    "unique_values.sort()\n",
    "n = len(unique_values)\n",
    "print(n, m, min(unique_values), max(unique_values))"
   ]
  },
  {
   "cell_type": "code",
   "execution_count": 5,
   "id": "23bac5a9-d0ff-4432-8faa-9b6e2e2ba99c",
   "metadata": {},
   "outputs": [
    {
     "data": {
      "text/plain": [
       "(115181.34624100267, 4095659.5064726495, 455924.96284696716, 4712750.858482279)"
      ]
     },
     "execution_count": 5,
     "metadata": {},
     "output_type": "execute_result"
    }
   ],
   "source": [
    "shp.bounds"
   ]
  },
  {
   "cell_type": "code",
   "execution_count": 6,
   "id": "594eca69-8959-475e-89c3-9c1f7541addc",
   "metadata": {},
   "outputs": [
    {
     "data": {
      "text/plain": [
       "50.12"
      ]
     },
     "execution_count": 6,
     "metadata": {},
     "output_type": "execute_result"
    }
   ],
   "source": [
    "shp[0]['properties'][attrname]"
   ]
  },
  {
   "cell_type": "code",
   "execution_count": 7,
   "id": "7cdcd613-20d0-40ec-bd04-b7b9d74c00f3",
   "metadata": {},
   "outputs": [
    {
     "data": {
      "image/png": "[encoded data removed]",
      "text/plain": [
       "<Figure size 432x288 with 1 Axes>"
      ]
     },
     "metadata": {
      "needs_background": "light"
     },
     "output_type": "display_data"
    }
   ],
   "source": [
    "draw_shape(shp)\n",
    "plt.axis('off')\n",
    "plt.axis('equal')\n",
    "plt.show()"
   ]
  },
  {
   "cell_type": "markdown",
   "id": "e5ffd6b6-ccc7-4350-b922-1fe841dc6ff5",
   "metadata": {},
   "source": [
    "Now we generate all the break points. A Python iterator is implemented (in `breakpoints2.py`) to yield every sequential unique and non-repeating combination of the elements provided (such as a list of numbers) for a given length. [This stackoverlow page](http://stackoverflow.com/questions/127704/algorithm-to-return-all-combinations-of-k-elements-from-n) has some excellent sources for this type of algorithms. We call the `choose` function to get a list of all such combinations. For example, the following will return all the combinations of 2 numbers from a list [1, 2, 3]."
   ]
  },
  {
   "cell_type": "code",
   "execution_count": 8,
   "id": "a645c325-cd54-4117-830d-4a860f320d6f",
   "metadata": {},
   "outputs": [
    {
     "data": {
      "text/plain": [
       "[(1, 2), (1, 3), (2, 3)]"
      ]
     },
     "execution_count": 8,
     "metadata": {},
     "output_type": "execute_result"
    }
   ],
   "source": [
    "choose([1, 2, 3], 2)"
   ]
  },
  {
   "cell_type": "markdown",
   "id": "0314c737-dcf1-4fb5-b41b-d1d001c43b75",
   "metadata": {},
   "source": [
    "And we can also find the combinations from a string of characters."
   ]
  },
  {
   "cell_type": "code",
   "execution_count": 9,
   "id": "3c0efd71-a632-482b-9d03-ee82d678e748",
   "metadata": {},
   "outputs": [
    {
     "data": {
      "text/plain": [
       "[('f', 'o', 'x'), ('f', 'o', 'y'), ('f', 'x', 'y'), ('o', 'x', 'y')]"
      ]
     },
     "execution_count": 9,
     "metadata": {},
     "output_type": "execute_result"
    }
   ],
   "source": [
    "choose('foxy', 3)"
   ]
  },
  {
   "cell_type": "markdown",
   "id": "5c83dccc-739c-4e54-a73f-a67929f23d4f",
   "metadata": {},
   "source": [
    "For our data, we want to find the break points -- the positions where we can break the original, sorted data into a number of classes. If we have 10 numbers, there will be up to 9 break points. To create `numclass` classes, we will `numclass-1` break points."
   ]
  },
  {
   "cell_type": "code",
   "execution_count": 10,
   "id": "2806a5f4-39ce-48d9-99e6-89ed3e96b92a",
   "metadata": {},
   "outputs": [],
   "source": [
    "all_brks = choose(range(n-1), numclass-1)"
   ]
  },
  {
   "cell_type": "markdown",
   "id": "b279223e-ab4c-494c-af06-1b0539d1f3cb",
   "metadata": {},
   "source": [
    "It is not a good idea to print them out, because there are really a lot (millions):"
   ]
  },
  {
   "cell_type": "code",
   "execution_count": 11,
   "id": "52ae09db-df79-467a-a3e7-471ce22d96f0",
   "metadata": {},
   "outputs": [
    {
     "data": {
      "text/plain": [
       "3921225"
      ]
     },
     "execution_count": 11,
     "metadata": {},
     "output_type": "execute_result"
    }
   ],
   "source": [
    "len(all_brks)"
   ]
  },
  {
   "cell_type": "markdown",
   "id": "dc176531-25d3-41b0-9f59-b62294ee0476",
   "metadata": {},
   "source": [
    "Instead, we will just look at some (one) randomly:"
   ]
  },
  {
   "cell_type": "code",
   "execution_count": 12,
   "id": "16e91f34-b4ba-4a02-8bf5-7ec520452055",
   "metadata": {},
   "outputs": [
    {
     "name": "stdout",
     "output_type": "stream",
     "text": [
      "Break point 3917178 is (80, 88, 95, 99)\n"
     ]
    }
   ],
   "source": [
    "i = random.randint(0, len(all_brks)-1)\n",
    "print('Break point', i+1, 'is', all_brks[i])"
   ]
  },
  {
   "cell_type": "markdown",
   "id": "9aea6bf8-fcd9-4b96-ad91-35599c27f8c3",
   "metadata": {
    "tags": []
   },
   "source": [
    "Now we get the actual intervals using the above random break points. Must use unique values."
   ]
  },
  {
   "cell_type": "code",
   "execution_count": 13,
   "id": "d79f8e91-2c33-484d-b8f6-a954f54edc7c",
   "metadata": {},
   "outputs": [
    {
     "data": {
      "text/plain": [
       "[15.57 - 73.52], [75.29 - 84.84], [85.41 - 100.1], [111.8 - 131.5], [155.3 - 155.3]"
      ]
     },
     "execution_count": 13,
     "metadata": {},
     "output_type": "execute_result"
    }
   ],
   "source": [
    "an_intervals = Intervals()\n",
    "brks = all_brks[i]\n",
    "\n",
    "an_intervals.set_classes_by_data2(list(brks), unique_values)\n",
    "an_intervals"
   ]
  },
  {
   "cell_type": "markdown",
   "id": "be39754a-2c49-42c3-9dcf-745b09291fad",
   "metadata": {},
   "source": [
    "Intervals can also be set given a set of bounds:"
   ]
  },
  {
   "cell_type": "code",
   "execution_count": 14,
   "id": "d19040de-4a34-40bb-b6d6-e0f5f468cac2",
   "metadata": {},
   "outputs": [
    {
     "data": {
      "text/plain": [
       "[15.57 - 41.2], [41.21 - 60.66], [60.67 - 77.29], [77.3 - 100.1], [100.1 - 155.3]"
      ]
     },
     "execution_count": 14,
     "metadata": {},
     "output_type": "execute_result"
    }
   ],
   "source": [
    "new_intervals = Intervals()\n",
    "new_bounds = [ [15.57, 41.20], [41.21, 60.66], [60.67, 77.29], [77.30, 100.10], [100.10, 155.30] ]\n",
    "new_intervals.set_classes(new_bounds)\n",
    "new_intervals"
   ]
  },
  {
   "cell_type": "markdown",
   "id": "99af5c1d-6694-4da6-b674-6ff35f7320db",
   "metadata": {},
   "source": [
    "## Evaluating intervals"
   ]
  },
  {
   "cell_type": "markdown",
   "id": "f19ac818-0be0-4595-8060-08139267fff3",
   "metadata": {},
   "source": [
    "We can get the class assignment of each value in the data:"
   ]
  },
  {
   "cell_type": "code",
   "execution_count": 15,
   "id": "61bf33fe-dd43-4d1a-a5f9-005452353366",
   "metadata": {},
   "outputs": [],
   "source": [
    "classes = [an_intervals.get_class(v) for v in all_values]"
   ]
  },
  {
   "cell_type": "code",
   "execution_count": 16,
   "id": "1eec4b7f-bb5a-4557-917f-2b39680cc703",
   "metadata": {},
   "outputs": [
    {
     "data": {
      "text/plain": [
       "0.7195794849948249"
      ]
     },
     "execution_count": 16,
     "metadata": {},
     "output_type": "execute_result"
    }
   ],
   "source": [
    "gvf2(classes, all_values, numclass)"
   ]
  },
  {
   "cell_type": "code",
   "execution_count": 17,
   "id": "6bf109f2-9327-44a6-96d2-60e3b2881012",
   "metadata": {},
   "outputs": [
    {
     "data": {
      "text/plain": [
       "0.4316905533317341"
      ]
     },
     "execution_count": 17,
     "metadata": {},
     "output_type": "execute_result"
    }
   ],
   "source": [
    "oai(classes, all_values, all_areas, numclass)"
   ]
  },
  {
   "cell_type": "code",
   "execution_count": 18,
   "id": "05e487ae-1af8-40df-810b-5fbcce8c7d16",
   "metadata": {},
   "outputs": [
    {
     "data": {
      "text/plain": [
       "0.641339616057272"
      ]
     },
     "execution_count": 18,
     "metadata": {},
     "output_type": "execute_result"
    }
   ],
   "source": [
    "class_counts = [ len([i for i in classes if i==j]) for j in range(numclass) ] \n",
    "class_means = [ sum([all_values[i] for i in range(m) if classes[i]==j])/float(class_counts[j])\n",
    "                for j in range(numclass) ]\n",
    "means = [ class_means[i] for i in classes ]\n",
    "moransi2(means, adjacency_list)"
   ]
  },
  {
   "cell_type": "code",
   "execution_count": 19,
   "id": "d5437c09-a39e-4c04-ab71-45a635deefc0",
   "metadata": {},
   "outputs": [
    {
     "data": {
      "text/plain": [
       "0.5165704274790814"
      ]
     },
     "execution_count": 19,
     "metadata": {},
     "output_type": "execute_result"
    }
   ],
   "source": [
    "bai(adjacency_list, all_values, classes)"
   ]
  },
  {
   "cell_type": "markdown",
   "id": "e4e2f389-6f32-4cd8-b603-63718e2fae75",
   "metadata": {},
   "source": [
    "Now we write a function to wrap the code so we can use it repeatedly later."
   ]
  },
  {
   "cell_type": "code",
   "execution_count": 20,
   "id": "19803e84-90d6-4365-8021-11e37a55ffc3",
   "metadata": {},
   "outputs": [],
   "source": [
    "# assume the following variables available:\n",
    "#  all_values\n",
    "#  unique_values\n",
    "#  all_areas\n",
    "#  numclass\n",
    "\n",
    "def eval_break_points(break_points):\n",
    "    intervals = Intervals()\n",
    "    intervals.set_classes_by_data2(list(break_points), unique_values)\n",
    "    return [intervals, eval_intervals(intervals)]\n",
    "\n",
    "def eval_intervals(temp_intervals):\n",
    "    classes = [temp_intervals.get_class(i) for i in all_values]\n",
    "    class_counts = [ len([i for i in classes if i==j]) for j in range(numclass) ] \n",
    "    class_means = [ sum([all_values[i] for i in range(m) if classes[i]==j])/float(class_counts[j])\n",
    "                    for j in range(numclass) ]\n",
    "    means = [ class_means[i] for i in classes ]\n",
    "    o1 = gvf2(classes, all_values, numclass)\n",
    "    o2 = oai(classes, all_values, all_areas, numclass)\n",
    "    o3 = moransi2(means, adjacency_list)\n",
    "    o4 = bai(adjacency_list, all_values, classes)\n",
    "    return o1, o2, o3, o4\n"
   ]
  },
  {
   "cell_type": "code",
   "execution_count": 21,
   "id": "dac5955f-75c3-42d0-a18a-8a05d7c7fefb",
   "metadata": {},
   "outputs": [
    {
     "data": {
      "text/plain": [
       "[[15.57 - 73.52], [75.29 - 84.84], [85.41 - 100.1], [111.8 - 131.5], [155.3 - 155.3],\n",
       " (0.7195794849948249,\n",
       "  0.4316905533317341,\n",
       "  0.641339616057272,\n",
       "  0.5165704274790814)]"
      ]
     },
     "execution_count": 21,
     "metadata": {},
     "output_type": "execute_result"
    }
   ],
   "source": [
    "eval_break_points(brks)"
   ]
  },
  {
   "cell_type": "markdown",
   "id": "359647cf-ff24-496f-8704-a134107569fa",
   "metadata": {},
   "source": [
    "No need to re-run this unless really necessary. Use the cell below to load the pickle files."
   ]
  },
  {
   "cell_type": "code",
   "execution_count": 22,
   "id": "4424d82c-4b55-4088-8227-df07f1c3f4c8",
   "metadata": {},
   "outputs": [],
   "source": [
    "\n",
    "# get ranges of breaks\n",
    "\n",
    "# subset_size = 50000\n",
    "# sub_brks = random.sample(all_brks, subset_size)\n",
    "# n = len(sub_brks)\n",
    "\n",
    "\n",
    "num_proc = cpu_count()\n",
    "n = len(all_brks)\n",
    "\n",
    "num_to_proc = n//num_proc\n",
    "ranges = [num_to_proc for _ in range(num_proc)]\n",
    "ranges[-1] += n - sum(ranges)\n",
    "\n",
    "# sub_brks = random.sample(all_brks, subset_size)\n",
    "break_inputs = []\n",
    "new_start = 0\n",
    "for i in ranges:\n",
    "    break_inputs.append(all_brks[new_start:new_start+i])\n",
    "    new_start += i\n",
    "\n"
   ]
  },
  {
   "cell_type": "code",
   "execution_count": 23,
   "id": "6d20c349-4041-4ef0-8bb0-d67aa10d3e5c",
   "metadata": {},
   "outputs": [
    {
     "data": {
      "text/plain": [
       "12"
      ]
     },
     "execution_count": 23,
     "metadata": {},
     "output_type": "execute_result"
    }
   ],
   "source": [
    "len(break_inputs)"
   ]
  },
  {
   "cell_type": "code",
   "execution_count": 24,
   "id": "c21c8963-39b9-4330-bad1-291ae6e0c394",
   "metadata": {},
   "outputs": [],
   "source": [
    "# this cell is commented out. Uncomment to use multiprocessing to run the evaluation of all break points in paralle.\n",
    "\n",
    "# from multiprocessing import Process, Pool, Manager\n",
    "\n",
    "# def run_eval_mp(brks_list):\n",
    "#     # for brks in brks_list:\n",
    "#     #     results.append(eval_break_points(brks))\n",
    "#     results = []\n",
    "#     for brks in brks_list:\n",
    "#         results.append(eval_break_points(brks))\n",
    "#     return results\n",
    "\n",
    "# t1 = time.time()\n",
    "\n",
    "# pool = Pool(processes=num_proc)\n",
    "# x = pool.map(run_eval_mp, break_inputs)     \n",
    "\n",
    "# # manager = Manager()\n",
    "# # all_results = manager.list()\n",
    "# # processes = [Process(target=run_eval_mp, args=(all_results, bl)) for bl in break_inputs]\n",
    "# # for p in processes:\n",
    "# #     p.start()\n",
    "# # for p in processes:\n",
    "# #     p.join()\n",
    "\n",
    "        \n",
    "# t2 = time.time()\n",
    "# print('Total time to run', len(all_brks), 'break points is', t2-t1, 'seconds')"
   ]
  },
  {
   "cell_type": "code",
   "execution_count": 25,
   "id": "33d06ccd-ac77-4fc6-8db1-3abdd819fa34",
   "metadata": {},
   "outputs": [],
   "source": [
    "# we will use ray to run the evaluations in parallel\n",
    "\n",
    "# initialization \n",
    "\n",
    "ray.init()\n",
    "\n",
    "@ray.remote\n",
    "def run_eval(brks_list):\n",
    "    results = []\n",
    "    for brks in brks_list:\n",
    "        results.append(eval_break_points(brks))\n",
    "    return results\n"
   ]
  },
  {
   "cell_type": "code",
   "execution_count": 27,
   "id": "ba22e1f0-878f-4d18-9095-f9f6f97e216d",
   "metadata": {
    "tags": []
   },
   "outputs": [
    {
     "ename": "NameError",
     "evalue": "name 't3' is not defined",
     "output_type": "error",
     "traceback": [
      "\u001b[0;31m---------------------------------------------------------------------------\u001b[0m",
      "\u001b[0;31mNameError\u001b[0m                                 Traceback (most recent call last)",
      "\u001b[0;32m/tmp/ipykernel_13486/3533728611.py\u001b[0m in \u001b[0;36m<module>\u001b[0;34m\u001b[0m\n\u001b[1;32m      4\u001b[0m \u001b[0mall_results\u001b[0m \u001b[0;34m=\u001b[0m \u001b[0;34m[\u001b[0m\u001b[0mitem\u001b[0m \u001b[0;32mfor\u001b[0m \u001b[0msub\u001b[0m \u001b[0;32min\u001b[0m \u001b[0mray\u001b[0m\u001b[0;34m.\u001b[0m\u001b[0mget\u001b[0m\u001b[0;34m(\u001b[0m\u001b[0mfutures\u001b[0m\u001b[0;34m)\u001b[0m \u001b[0;32mfor\u001b[0m \u001b[0mitem\u001b[0m \u001b[0;32min\u001b[0m \u001b[0msub\u001b[0m\u001b[0;34m]\u001b[0m\u001b[0;34m\u001b[0m\u001b[0;34m\u001b[0m\u001b[0m\n\u001b[1;32m      5\u001b[0m \u001b[0mt2\u001b[0m \u001b[0;34m=\u001b[0m \u001b[0mtime\u001b[0m\u001b[0;34m.\u001b[0m\u001b[0mtime\u001b[0m\u001b[0;34m(\u001b[0m\u001b[0;34m)\u001b[0m\u001b[0;34m\u001b[0m\u001b[0;34m\u001b[0m\u001b[0m\n\u001b[0;32m----> 6\u001b[0;31m \u001b[0mprint\u001b[0m\u001b[0;34m(\u001b[0m\u001b[0;34m'Total'\u001b[0m\u001b[0;34m,\u001b[0m \u001b[0mt3\u001b[0m\u001b[0;34m-\u001b[0m\u001b[0mt1\u001b[0m\u001b[0;34m,\u001b[0m \u001b[0;34m'seconds ('\u001b[0m\u001b[0;34m,\u001b[0m \u001b[0mt2\u001b[0m\u001b[0;34m-\u001b[0m\u001b[0mt1\u001b[0m\u001b[0;34m,\u001b[0m \u001b[0;34m'+'\u001b[0m\u001b[0;34m,\u001b[0m \u001b[0mt3\u001b[0m\u001b[0;34m-\u001b[0m\u001b[0mt2\u001b[0m\u001b[0;34m,\u001b[0m \u001b[0;34m') on'\u001b[0m\u001b[0;34m,\u001b[0m \u001b[0mnum_proc\u001b[0m\u001b[0;34m,\u001b[0m \u001b[0;34m'cores'\u001b[0m\u001b[0;34m)\u001b[0m\u001b[0;34m\u001b[0m\u001b[0;34m\u001b[0m\u001b[0m\n\u001b[0m",
      "\u001b[0;31mNameError\u001b[0m: name 't3' is not defined"
     ]
    }
   ],
   "source": [
    "t1 = time.time()\n",
    "futures = [run_eval.remote(break_inputs[i]) for i in range(num_proc)]\n",
    "t2 = time.time()\n",
    "all_results = [item for sub in ray.get(futures) for item in sub]\n",
    "t3 = time.time()"
   ]
  },
  {
   "cell_type": "code",
   "execution_count": 28,
   "id": "bd34d3a5-1e5c-494c-a6a5-778722e8529c",
   "metadata": {},
   "outputs": [
    {
     "name": "stdout",
     "output_type": "stream",
     "text": [
      "Total 369.284973859787 seconds ( 350.872172832489 + 18.412801027297974 ) on 12 cores\n"
     ]
    }
   ],
   "source": [
    "t3 = time.time()\n",
    "print('Total', t3-t1, 'seconds (', t2-t1, '+', t3-t2, ') on', num_proc, 'cores')"
   ]
  },
  {
   "cell_type": "code",
   "execution_count": null,
   "id": "944a3949-b2ac-428a-8e18-4e34f71c9ac9",
   "metadata": {},
   "outputs": [],
   "source": []
  },
  {
   "cell_type": "code",
   "execution_count": null,
   "id": "415a6d2c-ee7a-4dad-b7d7-120bd7895771",
   "metadata": {},
   "outputs": [],
   "source": []
  },
  {
   "cell_type": "code",
   "execution_count": null,
   "id": "12e6ac75-ac53-47f7-aed9-00ae9cf79f8a",
   "metadata": {},
   "outputs": [],
   "source": []
  },
  {
   "cell_type": "code",
   "execution_count": null,
   "id": "a27efac2-11d1-4cc7-b31e-163ae3856db0",
   "metadata": {},
   "outputs": [],
   "source": []
  },
  {
   "cell_type": "code",
   "execution_count": null,
   "id": "926db277-ccc1-45d9-81ec-1425783ecfca",
   "metadata": {},
   "outputs": [],
   "source": []
  },
  {
   "cell_type": "markdown",
   "id": "56e9c1fe-4d01-4596-832a-9d0dc6b55973",
   "metadata": {},
   "source": [
    "We can also evaluate all the break points sequentially by un-commenting and running the following code cell. It will take significantly longer time to finish."
   ]
  },
  {
   "cell_type": "code",
   "execution_count": 31,
   "id": "fcf2bb1f-f5ae-4dcd-884b-52dfe5152a50",
   "metadata": {},
   "outputs": [],
   "source": [
    "# t1 = time.time()\n",
    "\n",
    "# all_results = [] # each item: [intervals, [obj1, obj2, obj3, obj4]]\n",
    "\n",
    "# # subset_size = 500\n",
    "# # sub_brks = random.sample(all_brks, subset_size)\n",
    "\n",
    "# n = len(all_brks)\n",
    "# num_ticks = 10\n",
    "# report_n = n//num_ticks\n",
    "# for i in range(n):\n",
    "#     brks = all_brks[i]\n",
    "#     res = eval_break_points(brks)\n",
    "#     all_results.append(res)\n",
    "#     if i%report_n==0:\n",
    "#         pr = '[{:{width}s}]'.format('#'*(1+i//report_n), width=num_ticks)\n",
    "#         print(pr, end='\\r')\n",
    "\n",
    "# t2 = time.time()\n",
    "# print()\n",
    "# print('Total time to run', n, 'break points sequentially is', t2-t1, 'seconds')\n"
   ]
  },
  {
   "cell_type": "markdown",
   "id": "b4bdf252-9303-481e-ae4c-32e4407acfe4",
   "metadata": {},
   "source": [
    "Now we have the evaluations of all the break points, let's quickly check some of the results:"
   ]
  },
  {
   "cell_type": "code",
   "execution_count": 33,
   "id": "9cc2e856-7867-450e-94dd-383b0e0b8f46",
   "metadata": {},
   "outputs": [
    {
     "data": {
      "text/plain": [
       "[[[15.57 - 15.57], [15.93 - 15.93], [17.82 - 17.82], [18.57 - 18.57], [23.42 - 155.3],\n",
       "  (0.0989541970871477,\n",
       "   0.04130497166173608,\n",
       "   0.3643874179382359,\n",
       "   0.03536711086374934)],\n",
       " [[15.57 - 15.57], [15.93 - 15.93], [17.82 - 17.82], [18.57 - 23.42], [24.83 - 155.3],\n",
       "  (0.11721587208982387,\n",
       "   0.05200713655779532,\n",
       "   0.43103623775458244,\n",
       "   0.04137230967725613)]]"
      ]
     },
     "execution_count": 33,
     "metadata": {},
     "output_type": "execute_result"
    }
   ],
   "source": [
    "all_results[:2]"
   ]
  },
  {
   "cell_type": "code",
   "execution_count": 34,
   "id": "2451a548-790b-4d7c-8ca0-b814d9130f1b",
   "metadata": {},
   "outputs": [
    {
     "data": {
      "text/plain": [
       "[[[15.57 - 15.57], [15.93 - 15.93], [17.82 - 31.28], [31.66 - 84.84], [85.41 - 155.3],\n",
       "  (0.6800546273695852,\n",
       "   0.38584424473776535,\n",
       "   0.5619849417479952,\n",
       "   0.4375098821728764)],\n",
       " [[15.57 - 15.57], [15.93 - 15.93], [17.82 - 31.28], [31.66 - 85.41], [86.75 - 155.3],\n",
       "  (0.672478487916355,\n",
       "   0.37807627017552337,\n",
       "   0.5286381759176063,\n",
       "   0.43428117865071186)],\n",
       " [[15.57 - 15.57], [15.93 - 15.93], [17.82 - 31.28], [31.66 - 86.75], [87.87 - 155.3],\n",
       "  (0.6644891507151162,\n",
       "   0.37230798636972084,\n",
       "   0.48682146418165356,\n",
       "   0.4485431305458754)]]"
      ]
     },
     "execution_count": 34,
     "metadata": {},
     "output_type": "execute_result"
    }
   ],
   "source": [
    "all_results[1000:1003]"
   ]
  },
  {
   "cell_type": "code",
   "execution_count": 35,
   "id": "cc7d2578-7fb0-4b96-a500-f0ae59205f94",
   "metadata": {},
   "outputs": [
    {
     "data": {
      "text/plain": [
       "(0.0989541970871477,\n",
       " 0.04130497166173608,\n",
       " 0.3643874179382359,\n",
       " 0.03536711086374934)"
      ]
     },
     "execution_count": 35,
     "metadata": {},
     "output_type": "execute_result"
    }
   ],
   "source": [
    "res = all_results[0]\n",
    "res[1]"
   ]
  },
  {
   "cell_type": "markdown",
   "id": "7a5a9e8d-abe5-495f-b93b-9552312a4330",
   "metadata": {},
   "source": [
    "Find the best for each objective. All the objectives are to maximize."
   ]
  },
  {
   "cell_type": "code",
   "execution_count": 36,
   "id": "f3a94032-b054-4a82-9ab1-34d84388dd11",
   "metadata": {},
   "outputs": [
    {
     "name": "stdout",
     "output_type": "stream",
     "text": [
      "Time to find extremes: 3.8324944972991943 seconds\n"
     ]
    }
   ],
   "source": [
    "t1 = time.time()\n",
    "\n",
    "extremes = [all_results[0], all_results[0], all_results[0], all_results[0]]\n",
    "for res in all_results:\n",
    "    for i in range(len(extremes)):\n",
    "        if res[1][i] > extremes[i][1][i]:\n",
    "            extremes[i] = res\n",
    "\n",
    "t2 = time.time()\n",
    "print('Time to find extremes:', t2-t1, 'seconds')"
   ]
  },
  {
   "cell_type": "code",
   "execution_count": 37,
   "id": "4d7bc48d-4cfb-4831-a60b-3e25c8859ac1",
   "metadata": {},
   "outputs": [
    {
     "data": {
      "text/plain": [
       "[[[15.57 - 41.2], [45.4 - 60.66], [62.06 - 77.29], [79.66 - 100.1], [111.8 - 155.3],\n",
       "  (0.93133839170431,\n",
       "   0.7248757193031732,\n",
       "   0.756850123831985,\n",
       "   0.7386362917660153)],\n",
       " [[15.57 - 41.2], [45.4 - 55.44], [56.35 - 71.61], [72.76 - 100.1], [111.8 - 155.3],\n",
       "  (0.9255424539452779,\n",
       "   0.7302258224073982,\n",
       "   0.7795877972237811,\n",
       "   0.7036454940453977)],\n",
       " [[15.57 - 32.69], [33.26 - 41.2], [45.4 - 57.4], [57.49 - 71.61], [72.76 - 155.3],\n",
       "  (0.8308518898371546,\n",
       "   0.6298383413799542,\n",
       "   0.8624986397790059,\n",
       "   0.5338650205865424)],\n",
       " [[15.57 - 36.24], [37.57 - 49.38], [50.11 - 66.32], [67.04 - 96.37], [96.78 - 155.3],\n",
       "  (0.913668495355815,\n",
       "   0.6960041156585309,\n",
       "   0.7211905404181319,\n",
       "   0.7760082978629208)]]"
      ]
     },
     "execution_count": 37,
     "metadata": {},
     "output_type": "execute_result"
    }
   ],
   "source": [
    "extremes"
   ]
  },
  {
   "cell_type": "markdown",
   "id": "f757094d-d3ae-43aa-99db-739ec58829b8",
   "metadata": {},
   "source": [
    "We also hard code the results so we don't have to re-run the above evaluation code (parallel or not) every time."
   ]
  },
  {
   "cell_type": "code",
   "execution_count": 39,
   "id": "f215bd22-506b-40f1-b912-5ca02d43f303",
   "metadata": {},
   "outputs": [],
   "source": [
    "extremes_output = [[[15.57, 41.2], [45.4, 60.66], [62.06, 77.29], [79.66, 100.1], [111.8, 155.3],\n",
    "      (0.93133839170431,\n",
    "       0.7248757193031732,\n",
    "       0.756850123831985,\n",
    "       0.7386362917660153)],\n",
    "     [[15.57, 41.2], [45.4, 55.44], [56.35, 71.61], [72.76, 100.1], [111.8, 155.3],\n",
    "      (0.9255424539452779,\n",
    "       0.7302258224073982,\n",
    "       0.7795877972237811,\n",
    "       0.7036454940453977)],\n",
    "     [[15.57, 32.69], [33.26, 41.2], [45.4, 57.4], [57.49, 71.61], [72.76, 155.3],\n",
    "      (0.8308518898371546,\n",
    "       0.6298383413799542,\n",
    "       0.8624986397790059,\n",
    "       0.5338650205865424)],\n",
    "     [[15.57, 36.24], [37.57, 49.38], [50.11, 66.32], [67.04, 96.37], [96.78, 155.3],\n",
    "      (0.913668495355815,\n",
    "       0.6960041156585309,\n",
    "       0.7211905404181319,\n",
    "       0.7760082978629208)]]\n",
    "\n",
    "# recover from the previous output\n",
    "extremes = []\n",
    "for i in extremes_output:\n",
    "    new_intervals = Intervals()\n",
    "    new_bounds = i[:-1]\n",
    "    new_intervals.set_classes(new_bounds)\n",
    "    extremes.append([new_intervals, i[-1]])\n"
   ]
  },
  {
   "cell_type": "code",
   "execution_count": 41,
   "id": "09d139a3-6a9e-4f27-87ff-f57e1333983c",
   "metadata": {},
   "outputs": [
    {
     "name": "stdout",
     "output_type": "stream",
     "text": [
      "GVF = 0.93133839170431\n",
      "OAI = 0.7302258224073982\n",
      "Moran's I = 0.8624986397790059\n",
      "BAI = 0.7760082978629208\n"
     ]
    }
   ],
   "source": [
    "# print optimum values\n",
    "objective_names = [ 'GVF', 'OAI', 'Moran\\'s I', 'BAI' ]\n",
    "\n",
    "for i in range(len(extremes)):\n",
    "    res = extremes[i]\n",
    "    print(objective_names[i], '=', res[1][i])"
   ]
  },
  {
   "cell_type": "markdown",
   "id": "83e5815f-e0e1-4cff-bc28-e770c0e68bd5",
   "metadata": {},
   "source": [
    "Save the result for future use. This will create a big file."
   ]
  },
  {
   "cell_type": "code",
   "execution_count": 46,
   "id": "5a0856f3-fd30-477a-96a9-81af2d78b9c5",
   "metadata": {},
   "outputs": [],
   "source": [
    "# dump the list to pickle\n",
    "\n",
    "import pickle\n",
    "\n",
    "pickle_dump_fname1 = 'all_results_5classes_il_farm_prod.pickle'\n",
    "\n",
    "# with open(pickle_dump_fname1, 'wb') as f:\n",
    "#     pickle.dump(all_results, f)"
   ]
  },
  {
   "cell_type": "code",
   "execution_count": 47,
   "id": "edc3564c-b0c8-469c-810c-5f8793e1b97f",
   "metadata": {},
   "outputs": [],
   "source": [
    "# # to get it back, do this:\n",
    "\n",
    "# with open(pickle_dump_fname1, 'rb') as f:\n",
    "#     all_results = pickle.load(f)"
   ]
  },
  {
   "cell_type": "code",
   "execution_count": null,
   "id": "ca1ff03b-9817-4406-b7ad-5b35ff3bf535",
   "metadata": {},
   "outputs": [],
   "source": []
  },
  {
   "cell_type": "code",
   "execution_count": null,
   "id": "dded7152-af25-4481-87d3-c7121c1852a1",
   "metadata": {},
   "outputs": [],
   "source": []
  },
  {
   "cell_type": "markdown",
   "id": "5ddce9b1-fcdc-4b6b-89ad-63dc71c317dd",
   "metadata": {},
   "source": [
    "Now we rank the results. This ranking process is called Pareto ranking. We will only work on a subset of all results as ranking all the results is too time consuming. We will find the best of the results in the subset and then show them along with the four extreme results."
   ]
  },
  {
   "cell_type": "code",
   "execution_count": 48,
   "id": "52aedd9f-2cad-471f-be41-7aae07129c48",
   "metadata": {},
   "outputs": [],
   "source": [
    "# for a sample:\n",
    "sample_results = random.sample(all_results, 3000)"
   ]
  },
  {
   "cell_type": "markdown",
   "id": "d8555ae7-6630-4c35-9d74-d452f357096b",
   "metadata": {},
   "source": [
    "Save the samples and extremes for future use."
   ]
  },
  {
   "cell_type": "code",
   "execution_count": 49,
   "id": "d7698ac0-191a-48b2-8a7b-18ab96b6ae19",
   "metadata": {},
   "outputs": [],
   "source": [
    "# dump the list to pickle\n",
    "\n",
    "import pickle\n",
    "\n",
    "pickle_dump_fname2 = 'extremes_results_5classes_il_farm_prod.pickle'\n",
    "\n",
    "with open(pickle_dump_fname2, 'wb') as f:\n",
    "    pickle.dump(extremes, f)\n",
    "    \n",
    "pickle_dump_fname3 = 'sample_results_5classes_il_farm_prod.pickle'\n",
    "\n",
    "with open(pickle_dump_fname3, 'wb') as f:\n",
    "    pickle.dump(sample_results, f)"
   ]
  },
  {
   "cell_type": "markdown",
   "id": "31660a63-8a95-4b2d-ab5a-36648f96a91c",
   "metadata": {},
   "source": [
    "The samples and extremes can be loaded without running the code again:"
   ]
  },
  {
   "cell_type": "code",
   "execution_count": 50,
   "id": "c17a8831-f1d8-402e-9a4e-0043d04e16e6",
   "metadata": {},
   "outputs": [],
   "source": [
    "# # to get it back, do this:\n",
    "\n",
    "# with open(pickle_dump_fname2, 'rb') as f:\n",
    "#     extremes = pickle.load(f)\n",
    "\n",
    "# with open(pickle_dump_fname3, 'rb') as f:\n",
    "#     sample_results = pickle.load(f)"
   ]
  },
  {
   "cell_type": "markdown",
   "id": "241152ca-8010-41f5-83b0-75db3a73781c",
   "metadata": {},
   "source": [
    "Sort the samples:"
   ]
  },
  {
   "cell_type": "code",
   "execution_count": 51,
   "id": "b09e1787-0ab1-473e-8000-b362b811dedf",
   "metadata": {},
   "outputs": [
    {
     "name": "stdout",
     "output_type": "stream",
     "text": [
      "Remains: 0/3000000\n",
      "total time to rank is 6.704988718032837 seconds\n"
     ]
    }
   ],
   "source": [
    "t3 = time.time()\n",
    "\n",
    "sample_objs = [res[1] for res in sample_results]\n",
    "sample_ranks = pareto_ranking(sample_objs, minimize=False, verbose=True)\n",
    "\n",
    "t4 = time.time()\n",
    "print('total time to rank is', t4-t3, 'seconds')"
   ]
  },
  {
   "cell_type": "code",
   "execution_count": null,
   "id": "5c77d43c-baaf-4b5d-8f64-bd12a14d3303",
   "metadata": {},
   "outputs": [],
   "source": []
  },
  {
   "cell_type": "code",
   "execution_count": null,
   "id": "1a3cf448-a97b-4e61-89c2-e7070ace9251",
   "metadata": {},
   "outputs": [],
   "source": []
  },
  {
   "cell_type": "code",
   "execution_count": 52,
   "id": "8b217b73-a32f-4e0c-84ec-404f7a6a3898",
   "metadata": {},
   "outputs": [],
   "source": [
    "# find the four solutions with extreme values in the sample only\n",
    "\n",
    "sample_bests = []\n",
    "\n",
    "for i in range(4):\n",
    "    os = [x[1][i] for x in all_results]\n",
    "    osmax = max(os)\n",
    "    idx = os.index(osmax)\n",
    "    sample_bests.append(idx)\n",
    "    \n",
    "sample_bests_objs = [all_results[sample_bests[i]][1] for i in range(4)]\n"
   ]
  },
  {
   "cell_type": "code",
   "execution_count": 53,
   "id": "0439bc27-8685-45f1-a56b-e0be4f855235",
   "metadata": {},
   "outputs": [
    {
     "data": {
      "text/plain": [
       "[(0.93133839170431, 0.7248757193031732, 0.756850123831985, 0.7386362917660153),\n",
       " (0.9255424539452779,\n",
       "  0.7302258224073982,\n",
       "  0.7795877972237811,\n",
       "  0.7036454940453977),\n",
       " (0.8308518898371546,\n",
       "  0.6298383413799542,\n",
       "  0.8624986397790059,\n",
       "  0.5338650205865424),\n",
       " (0.913668495355815,\n",
       "  0.6960041156585309,\n",
       "  0.7211905404181319,\n",
       "  0.7760082978629208)]"
      ]
     },
     "execution_count": 53,
     "metadata": {},
     "output_type": "execute_result"
    }
   ],
   "source": [
    "sample_bests_objs"
   ]
  },
  {
   "cell_type": "code",
   "execution_count": 54,
   "id": "45268134-3daf-4c62-bfe6-502b9e2d5484",
   "metadata": {},
   "outputs": [
    {
     "data": {
      "text/plain": [
       "[3238619, 3230726, 2213003, 2671197]"
      ]
     },
     "execution_count": 54,
     "metadata": {},
     "output_type": "execute_result"
    }
   ],
   "source": [
    "sample_bests"
   ]
  },
  {
   "cell_type": "code",
   "execution_count": 55,
   "id": "16f18173-443f-44e1-ad18-cc2db42a705b",
   "metadata": {},
   "outputs": [],
   "source": [
    "bests = []\n",
    "for i in range(4):\n",
    "    os = [x[1][i] for x in all_results]\n",
    "    osmax = max(os)\n",
    "    idx = os.index(osmax)\n",
    "    bests.append(idx)"
   ]
  },
  {
   "cell_type": "code",
   "execution_count": 56,
   "id": "fb105e5c-9e87-4b65-8e03-077329a9d5c1",
   "metadata": {},
   "outputs": [
    {
     "name": "stdout",
     "output_type": "stream",
     "text": [
      "(0.93133839170431, 0.7248757193031732, 0.756850123831985, 0.7386362917660153)\n",
      "(0.9255424539452779, 0.7302258224073982, 0.7795877972237811, 0.7036454940453977)\n",
      "(0.8308518898371546, 0.6298383413799542, 0.8624986397790059, 0.5338650205865424)\n",
      "(0.913668495355815, 0.6960041156585309, 0.7211905404181319, 0.7760082978629208)\n"
     ]
    }
   ],
   "source": [
    "print(all_results[bests[0]][1])\n",
    "print(all_results[bests[1]][1])\n",
    "print(all_results[bests[2]][1])\n",
    "print(all_results[bests[3]][1])\n"
   ]
  },
  {
   "cell_type": "markdown",
   "id": "bcedcbc1-ea6e-4d41-8ead-11cbe88affa8",
   "metadata": {},
   "source": [
    "Sort and find the best solutions (non-dominated):"
   ]
  },
  {
   "cell_type": "code",
   "execution_count": 57,
   "id": "d8694f4c-2d68-4f4d-a4ae-60bf1c49be0f",
   "metadata": {},
   "outputs": [],
   "source": [
    "nondominated = [sample_results[i] for i in range(len(sample_ranks)) if sample_ranks[i]==1]\n",
    "dominated = [sample_results[i] for i in range(len(sample_ranks)) if sample_ranks[i]!=1]"
   ]
  },
  {
   "cell_type": "code",
   "execution_count": 58,
   "id": "e255c3dc-d67a-4d89-a000-42a55108be47",
   "metadata": {},
   "outputs": [
    {
     "data": {
      "text/plain": [
       "51"
      ]
     },
     "execution_count": 58,
     "metadata": {},
     "output_type": "execute_result"
    }
   ],
   "source": [
    "len(nondominated)"
   ]
  },
  {
   "cell_type": "code",
   "execution_count": 59,
   "id": "4183394e-5ffd-4950-ac22-1b0b006be9c7",
   "metadata": {},
   "outputs": [
    {
     "data": {
      "text/plain": [
       "[[15.57 - 46.13], [47.21 - 62.65], [63.67 - 75.51], [76.43 - 96.37], [96.78 - 155.3],\n",
       " (0.9123200070305787,\n",
       "  0.7102612125407846,\n",
       "  0.7285391321274833,\n",
       "  0.7225749938335239)]"
      ]
     },
     "execution_count": 59,
     "metadata": {},
     "output_type": "execute_result"
    }
   ],
   "source": [
    "nondominated[0]"
   ]
  },
  {
   "cell_type": "code",
   "execution_count": null,
   "id": "f15f1f3c-138e-40b8-a6ab-416391794b41",
   "metadata": {},
   "outputs": [],
   "source": []
  },
  {
   "cell_type": "markdown",
   "id": "5646f2d3-37a2-4402-bbff-96ddabd1913f",
   "metadata": {},
   "source": [
    "Below is the plot with the reference line, in red. Comparing two plots, we are convinced that the red line is dominated by the blue ones because otherwise we should see a darkgrey line in the place where the red line is."
   ]
  },
  {
   "cell_type": "code",
   "execution_count": 60,
   "id": "3efd1561-4c90-4c2f-8d2a-2e5c465ad71b",
   "metadata": {},
   "outputs": [
    {
     "data": {
      "image/png": "[encoded data removed]",
      "text/plain": [
       "<Figure size 432x288 with 1 Axes>"
      ]
     },
     "metadata": {
      "needs_background": "light"
     },
     "output_type": "display_data"
    }
   ],
   "source": [
    "# from parallel_coordinates import pcpx\n",
    "\n",
    "objective_names = [ 'GVF', 'OAI', 'Moran\\'s I', 'BAI' ]\n",
    "bounds = [[0, 1] for i in range(4)]\n",
    "\n",
    "best_objs = [v[1] for v in extremes] \n",
    "\n",
    "nondominated_objs = [res[1] for res in nondominated]\n",
    "dominated_objs = [res[1] for res in dominated]\n",
    "\n",
    "colors = ['lightgrey']*len(dominated) + ['grey']*len(nondominated) + ['orange']*4\n",
    "legend_labels = ['dominated']*len(dominated) + ['non-dominated']*len(nondominated) + ['4 extremes']*len(best_objs)\n",
    "\n",
    "pcpx(dominated_objs + nondominated_objs + best_objs, \n",
    "     bounds=bounds, style=colors, labels=objective_names, \n",
    "     legend_labels=legend_labels, legend_loc=2, bbox_to_anchor=(1, 1))\n",
    "\n",
    "plt.show()"
   ]
  },
  {
   "cell_type": "markdown",
   "id": "201a8bb3-e8e2-4212-a11f-36a5af1affdf",
   "metadata": {},
   "source": [
    "## Mapping\n",
    "\n",
    "We first show how to draw a choropleth map using a set of intervals."
   ]
  },
  {
   "cell_type": "code",
   "execution_count": 61,
   "id": "90b12f9d-fe33-4d9b-b3cf-49bc57e19675",
   "metadata": {},
   "outputs": [
    {
     "data": {
      "image/png": "[encoded data removed]",
      "text/plain": [
       "<Figure size 432x288 with 1 Axes>"
      ]
     },
     "metadata": {
      "needs_background": "light"
     },
     "output_type": "display_data"
    }
   ],
   "source": [
    "xmin, xmax = int(shp.bounds[0])-1, int(shp.bounds[2])+1\n",
    "ymin, ymax = int(shp.bounds[1]-1), int(shp.bounds[3]+1)\n",
    "\n",
    "# a random result from all_results\n",
    "i = random.randint(0, len(all_results)-1)\n",
    "the_intervals = all_results[i][0]\n",
    "classes = [the_intervals.get_class(v) for v in all_values]\n",
    "\n",
    "colors = get_colorbrewer_specs('Reds', numclass)\n",
    "fig0, ax0 = plt.subplots()\n",
    "draw_shape(shp, classes, colors)\n",
    "\n",
    "box_w = (xmax-xmin)/5  # a fraction of the total with\n",
    "box_h = box_w*2/3      # slightly smaller than the width\n",
    "label_xgap = box_w / 3\n",
    "label_ygap = box_h * 0.2\n",
    "\n",
    "rect_legend(xmax*1.1, ymin, box_w, box_h, label_xgap, ax0, colors, ygap=label_ygap, edgecolor='grey', intervals=the_intervals)\n",
    "\n",
    "plt.axis('off')\n",
    "plt.axis('equal')\n",
    "plt.show()\n"
   ]
  },
  {
   "cell_type": "markdown",
   "id": "fcd5118d-5db6-4774-bab5-18b88416d114",
   "metadata": {},
   "source": [
    "Show good maps. Each of the four maps in the top row has one of the extreme values in the parallel coordinate plot. The ones in the second row are samples from the non-dominated maps (but none of them exhibits the extreme values)."
   ]
  },
  {
   "cell_type": "code",
   "execution_count": 62,
   "id": "3f56c5be-19f6-4b09-892e-0c5f00793b14",
   "metadata": {},
   "outputs": [
    {
     "data": {
      "text/plain": [
       "[[15.57 - 38.3], [39.72 - 40.36], [40.62 - 41.02], [41.2 - 67.04], [68.19 - 155.3],\n",
       " (0.7766523806923423,\n",
       "  0.5560132026622904,\n",
       "  0.7576725203526811,\n",
       "  0.41612644121609244)]"
      ]
     },
     "execution_count": 62,
     "metadata": {},
     "output_type": "execute_result"
    }
   ],
   "source": [
    "dominated[0]"
   ]
  },
  {
   "cell_type": "code",
   "execution_count": 63,
   "id": "fc50e693-9982-4e6f-8951-e9f8606fafc5",
   "metadata": {},
   "outputs": [
    {
     "data": {
      "image/png": "[encoded data removed]",
      "text/plain": [
       "<Figure size 1152x792 with 8 Axes>"
      ]
     },
     "metadata": {},
     "output_type": "display_data"
    }
   ],
   "source": [
    "fig, ax2 = plt.subplots(2, 4, sharey=True, sharex=True)\n",
    "fig.subplots_adjust(wspace=0)\n",
    "fig.subplots_adjust(hspace=0)\n",
    "fig.set_figheight(11)\n",
    "fig.set_figwidth(16)\n",
    "\n",
    "colors = get_colorbrewer_specs('Blues', numclass)\n",
    "\n",
    "box_w = (xmax-xmin)/5  # a fraction of the total with\n",
    "box_h = box_w*2/3      # slightly smaller than the width\n",
    "label_xgap = box_w / 3\n",
    "label_ygap = box_h * 0.2\n",
    "\n",
    "for axes in ax2:\n",
    "    for ax in axes:\n",
    "        ax.set_xticks([])\n",
    "        ax.set_yticks([])\n",
    "\n",
    "for j in range(4):\n",
    "    ax = ax2[0, j]\n",
    "    ax.set_xlim(xmin, xmax)\n",
    "    ax.set_ylim(ymin, ymax)\n",
    "    ax.set_aspect(1)\n",
    "    # myintervals = allintervals[bests[j]]\n",
    "    myintervals = extremes[j][0]\n",
    "    classes = [myintervals.get_class(i) for i in all_values] \n",
    "    #vector = driver.Open(shpfname, 0)\n",
    "    #layer = vector.GetLayer(0)\n",
    "    draw_shape(shp, classes, colors, axis=ax)\n",
    "    rect_legend(xmax*1.1, ymin, box_w, box_h, label_xgap, ax, colors, ygap=label_ygap, edgecolor='grey', intervals=myintervals)\n",
    "#     rect_legend(xmax-4, ymin+2, 0.45, 0.45, 0.2, ax, colors, edgecolor='grey', intervals=myintervals)\n",
    "    objs = extremes[j][1]\n",
    "#     mark_make_label(xmin+1.0, ymin+1.0, ax, objs)\n",
    "    \n",
    "four_maps = random.sample(nondominated, 4)\n",
    "\n",
    "for j in range(4):\n",
    "    ax = ax2[1, j]\n",
    "    ax.set_xlim(xmin*0.9, xmax*1.7)\n",
    "    ax.set_ylim(ymin*0.97, ymax*1.03)\n",
    "    ax.set_aspect(1)\n",
    "    myintervals = four_maps[j][0]\n",
    "    classes = [myintervals.get_class(i) for i in all_values] \n",
    "    #vector = driver.Open(shpfname, 0)\n",
    "    #layer = vector.GetLayer(0)\n",
    "    draw_shape(shp, classes, colors, axis=ax)\n",
    "    rect_legend(xmax*1.1, ymin, box_w, box_h, label_xgap, ax, colors, ygap=label_ygap, edgecolor='grey', intervals=myintervals)\n",
    "#     rect_legend(xmax-4, ymin+2, 0.45, 0.45, 0.2, ax, colors, edgecolor='grey', intervals=myintervals)\n",
    "    objs = four_maps[j][1]\n",
    "#     mark_make_label(xmin+1.0, ymin+1.0, ax, objs)\n",
    "    \n",
    "plt.show()"
   ]
  },
  {
   "cell_type": "markdown",
   "id": "e0fd65d1-ee54-4702-9aad-c70c3db0c2e6",
   "metadata": {},
   "source": [
    "IDEA: draw five maps in a row, where the first 4 are the extremes and the last one is a nondominated one. Can also draw the pcp and highlight the fifth."
   ]
  },
  {
   "cell_type": "code",
   "execution_count": null,
   "id": "0e5119ab-5b31-437a-a89c-c9f00506a583",
   "metadata": {},
   "outputs": [],
   "source": []
  },
  {
   "cell_type": "code",
   "execution_count": null,
   "id": "7f935e05-3858-47d8-aede-d7e80ed67960",
   "metadata": {},
   "outputs": [],
   "source": []
  },
  {
   "cell_type": "code",
   "execution_count": null,
   "id": "e358af82-43a6-40de-ae6f-3d770daaf9b4",
   "metadata": {},
   "outputs": [],
   "source": []
  },
  {
   "cell_type": "code",
   "execution_count": null,
   "id": "3367ed0d-3b18-44e5-beba-bb5c525bf4b0",
   "metadata": {},
   "outputs": [],
   "source": []
  }
 ],
 "metadata": {
  "kernelspec": {
   "display_name": "Python 3 (ipykernel)",
   "language": "python",
   "name": "python3"
  },
  "language_info": {
   "codemirror_mode": {
    "name": "ipython",
    "version": 3
   },
   "file_extension": ".py",
   "mimetype": "text/x-python",
   "name": "python",
   "nbconvert_exporter": "python",
   "pygments_lexer": "ipython3",
   "version": "3.9.7"
  }
 },
 "nbformat": 4,
 "nbformat_minor": 5
}
