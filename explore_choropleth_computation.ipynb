{
 "cells": [
  {
   "cell_type": "markdown",
   "id": "0c3970bd-476c-401b-963a-12bb8d8c382a",
   "metadata": {},
   "source": [
    "<p><a href=\"https://colab.research.google.com/github/compgeog/choropleth-tradeoffs/blob/main/explore_choropleth.ipynb\" target=\"_blank\"><img src=\"https://colab.research.google.com/assets/colab-badge.svg\" alt=\"Open In Colab\"/></a></p>"
   ]
  },
  {
   "cell_type": "markdown",
   "id": "fe4762ed-4565-4118-b416-b640be7dcf5a",
   "metadata": {},
   "source": [
    "# Tradeoffs for Choropleth Classifications: Computation\n"
   ]
  },
  {
   "cell_type": "markdown",
   "id": "231f138a-c797-4b36-b2f8-66b58421006b",
   "metadata": {},
   "source": [
    "This notebook explains how to generate all the choropleth classifications, using the 1959 Illinois farm products data as an example. The method used here can be extended to other data sets. In a separate notebook, we will demonstrate how to load the results generated here and how to show the tradeoffs between these classifications. \n",
    "\n",
    "The following two cells contain commands that are used to install necessary libraries. They do not need to be run every time. They are commented out. "
   ]
  },
  {
   "cell_type": "code",
   "execution_count": 1,
   "id": "2ff409e0-561a-4b1d-afab-10fb158e132d",
   "metadata": {},
   "outputs": [],
   "source": [
    "!git clone https://github.com/gisalgs/geom\n",
    "!git clone https://github.com/gisalgs/spatialanalysis\n",
    "!git clone https://github.com/compgeog/cgl"
   ]
  },
  {
   "cell_type": "code",
   "execution_count": 2,
   "id": "c41b618a-77ed-4e15-a288-299eb79ff8d6",
   "metadata": {},
   "outputs": [],
   "source": [
    "!pip install ray\n",
    "!pip install matplotlib"
   ]
  },
  {
   "cell_type": "markdown",
   "id": "0ab17919-8cf5-4e57-9967-139101200cdc",
   "metadata": {},
   "source": [
    "The following cell makes sure the necessary libraries and modules are imported to run the experiments in the rest of this notebook."
   ]
  },
  {
   "cell_type": "code",
   "execution_count": 3,
   "id": "bceaf9dd-58ea-45e9-8477-17b1d496598d",
   "metadata": {},
   "outputs": [],
   "source": [
    "from geom.shapex import *\n",
    "from spatialanalysis.moransi2 import *\n",
    "from cgl.cgl.util.get_adjacency_matrix import *\n",
    "from cgl.cgl.util.draw_polygons_shapex import *\n",
    "from cgl.cgl.util.get_attribute_by_name import *\n",
    "from cgl.cgl.util.evaluate_all import *\n",
    "from cgl.cgl.util.pareto_ranking import *\n",
    "from cgl.cgl.util.breakpoints2 import *\n",
    "\n",
    "import ray\n",
    "import time\n",
    "import random\n",
    "import json\n",
    "import urllib.request as request\n",
    "\n",
    "from os import cpu_count\n",
    "\n",
    "import matplotlib.pyplot as plt\n",
    "%matplotlib inline"
   ]
  },
  {
   "cell_type": "markdown",
   "id": "9a660bfd-3ca5-42f2-bedd-2831fa6e7887",
   "metadata": {},
   "source": [
    "# Map Data\n",
    "\n",
    "In this tutorial, we use the data of 1959 Illinois farm products. This data set has been used in many cartographic studies such as [this](https://www.tandfonline.com/doi/full/10.1111/1467-8306.9303005). The data is converted to a GeoJSON file and can be loaded directly from its [github source](https://raw.githubusercontent.com/compgeog/choropleth-tradeoffs/main/data/il/il.geojson)."
   ]
  },
  {
   "cell_type": "code",
   "execution_count": 4,
   "id": "6acf0dbf-a843-45a9-a2a0-240d0e7836de",
   "metadata": {},
   "outputs": [],
   "source": [
    "url_il_data = 'https://raw.githubusercontent.com/compgeog/choropleth-tradeoffs/main/data/il/il.geojson'\n",
    "with request.urlopen(url_il_data) as response:\n",
    "    shp = json.loads(response.read())\n",
    "\n",
    "all_features = shp['features']"
   ]
  },
  {
   "cell_type": "markdown",
   "id": "a0e1f51a-be77-4aa2-8505-40d2d35dfbc3",
   "metadata": {},
   "source": [
    "We need to get the bounds of the coordinates:"
   ]
  },
  {
   "cell_type": "code",
   "execution_count": 5,
   "id": "f0d76b6f-2a21-42e7-b5b9-48a8e7359626",
   "metadata": {},
   "outputs": [
    {
     "data": {
      "text/plain": [
       "{'xmin': 115181.34624100267,\n",
       " 'ymin': 4095659.5064726495,\n",
       " 'xmax': 455924.96284696716,\n",
       " 'ymax': 4712750.858482279}"
      ]
     },
     "execution_count": 5,
     "metadata": {},
     "output_type": "execute_result"
    }
   ],
   "source": [
    "envelopes = get_feature_envelopes(all_features) # list of [xmin, ymin, xmax, ymax]\n",
    "# geom_bounds = [min([p[0] for p in envelopes]), min([p[1] for p in envelopes]), max([p[2] for p in envelopes]), max([p[3] for p in envelopes])]\n",
    "geom_bounds = {\n",
    "    'xmin': min([p[0] for p in envelopes]), \n",
    "    'ymin': min([p[1] for p in envelopes]), \n",
    "    'xmax': max([p[2] for p in envelopes]), \n",
    "    'ymax': max([p[3] for p in envelopes])\n",
    "}\n",
    "\n",
    "geom_bounds # [xmin, ymin, xmax, ymax]"
   ]
  },
  {
   "cell_type": "markdown",
   "id": "3e56a30c-3bba-4e9c-a3b7-70d3506622d0",
   "metadata": {},
   "source": [
    "Alternatively we can download the [shapefile](https://github.com/compgeog/choropleth-tradeoffs/tree/main/data/il) to a local storage and load it using the [shapex](https://github.com/gisalgs/geom/blob/master/shapex.py) program. "
   ]
  },
  {
   "cell_type": "code",
   "execution_count": 6,
   "id": "bac550d6-0c96-4c7b-bc53-502b08476f06",
   "metadata": {},
   "outputs": [],
   "source": [
    "# shpfname = 'data/il/il.shp'\n",
    "# attrname = 'FARM_PROD'\n",
    "\n",
    "# all_features = shapex(shpfname)\n",
    "# _bounds = all_features.bounds\n",
    "# geom_bounds = {\n",
    "#     'xmin': _bounds[0], \n",
    "#     'ymin': _bounds[1], \n",
    "#     'xmax': _bounds[2], \n",
    "#     'ymax': _bounds[3]\n",
    "# }\n",
    "# geom_bounds"
   ]
  },
  {
   "cell_type": "markdown",
   "id": "91b73de5-ff74-46a7-83d8-ecb1c8a39a01",
   "metadata": {},
   "source": [
    "Let's quickly draw a map to make sure the geometries are loaded correctly."
   ]
  },
  {
   "cell_type": "code",
   "execution_count": 7,
   "id": "7cdcd613-20d0-40ec-bd04-b7b9d74c00f3",
   "metadata": {},
   "outputs": [
    {
     "data": {
      "image/png": "[encoded data removed]",
      "text/plain": [
       "<Figure size 432x288 with 1 Axes>"
      ]
     },
     "metadata": {
      "needs_background": "light"
     },
     "output_type": "display_data"
    }
   ],
   "source": [
    "draw_shape(all_features)\n",
    "plt.axis('off')\n",
    "plt.axis('equal')\n",
    "plt.show()"
   ]
  },
  {
   "cell_type": "markdown",
   "id": "526cf452-1c8b-406e-b19b-aaf433abb42a",
   "metadata": {},
   "source": [
    "With the data loaded, we need to obtain the adjacency matrix (list), all the values of the attribute called FARM_PROD, and all the unique values (sorted). We also set the number of classes for this tutorial to 5. "
   ]
  },
  {
   "cell_type": "code",
   "execution_count": 8,
   "id": "dd31ea0f-3481-4ac8-a172-c6d9e8900811",
   "metadata": {},
   "outputs": [
    {
     "name": "stdout",
     "output_type": "stream",
     "text": [
      "101 102 15.57 155.3\n"
     ]
    }
   ],
   "source": [
    "attrname = 'FARM_PROD'\n",
    "\n",
    "adjacency_list = adjacency_matrix(all_features, output='L')\n",
    "all_values = get_shp_attribute_by_name(all_features, attrname)\n",
    "all_areas = get_shp_attribute_by_name(all_features, 'AREA')\n",
    "unique_values = list(set(all_values))\n",
    "unique_values.sort()\n",
    "\n",
    "numclass = 5  # \n",
    "\n",
    "m = len(all_values)     # number of all values in data\n",
    "n = len(unique_values)  # number of unique values in data\n",
    "print(n, m, min(unique_values), max(unique_values))"
   ]
  },
  {
   "cell_type": "markdown",
   "id": "07a57400-e31d-4a05-94ea-1801c73a4f81",
   "metadata": {},
   "source": [
    "We can also show a histogram of the data."
   ]
  },
  {
   "cell_type": "code",
   "execution_count": 9,
   "id": "22cfbe07-6e56-499e-8073-672e9d2741a7",
   "metadata": {},
   "outputs": [
    {
     "data": {
      "image/png": "[encoded data removed]",
      "text/plain": [
       "<Figure size 432x288 with 1 Axes>"
      ]
     },
     "metadata": {
      "needs_background": "light"
     },
     "output_type": "display_data"
    }
   ],
   "source": [
    "plt.hist(all_values)\n",
    "plt.show()"
   ]
  },
  {
   "cell_type": "markdown",
   "id": "e5ffd6b6-ccc7-4350-b922-1fe841dc6ff5",
   "metadata": {},
   "source": [
    "# Getting break points for classifications\n",
    "\n",
    "Now we generate all the break points. A Python iterator is implemented (in `breakpoints2.py`) to yield every sequential unique and non-repeating combination of the elements provided (such as a list of numbers) for a given length. [This stackoverlow page](http://stackoverflow.com/questions/127704/algorithm-to-return-all-combinations-of-k-elements-from-n) has some excellent sources for this type of algorithms. We call the `choose` function to get a list of all such combinations. For example, the following will return all the combinations of 2 numbers from a list [1, 2, 3]."
   ]
  },
  {
   "cell_type": "code",
   "execution_count": 10,
   "id": "a645c325-cd54-4117-830d-4a860f320d6f",
   "metadata": {},
   "outputs": [
    {
     "data": {
      "text/plain": [
       "[(1, 2), (1, 3), (2, 3)]"
      ]
     },
     "execution_count": 10,
     "metadata": {},
     "output_type": "execute_result"
    }
   ],
   "source": [
    "choose([1, 2, 3], 2)"
   ]
  },
  {
   "cell_type": "markdown",
   "id": "0314c737-dcf1-4fb5-b41b-d1d001c43b75",
   "metadata": {},
   "source": [
    "And we can also find the combinations from a string of characters."
   ]
  },
  {
   "cell_type": "code",
   "execution_count": 11,
   "id": "3c0efd71-a632-482b-9d03-ee82d678e748",
   "metadata": {},
   "outputs": [
    {
     "data": {
      "text/plain": [
       "[('f', 'o', 'x'), ('f', 'o', 'y'), ('f', 'x', 'y'), ('o', 'x', 'y')]"
      ]
     },
     "execution_count": 11,
     "metadata": {},
     "output_type": "execute_result"
    }
   ],
   "source": [
    "choose('foxy', 3)"
   ]
  },
  {
   "cell_type": "markdown",
   "id": "5c83dccc-739c-4e54-a73f-a67929f23d4f",
   "metadata": {},
   "source": [
    "For our data, we want to find the break points -- the positions where we can break the original, sorted data into a number of classes. If we have 10 numbers, there will be up to 9 break points. To create `numclass` classes, we will `numclass-1` break points."
   ]
  },
  {
   "cell_type": "code",
   "execution_count": 12,
   "id": "2806a5f4-39ce-48d9-99e6-89ed3e96b92a",
   "metadata": {},
   "outputs": [],
   "source": [
    "all_break_points = choose(range(n-1), numclass-1)"
   ]
  },
  {
   "cell_type": "markdown",
   "id": "b279223e-ab4c-494c-af06-1b0539d1f3cb",
   "metadata": {},
   "source": [
    "It is not a good idea to print them out, because there are really a lot (millions):"
   ]
  },
  {
   "cell_type": "code",
   "execution_count": 13,
   "id": "52ae09db-df79-467a-a3e7-471ce22d96f0",
   "metadata": {},
   "outputs": [
    {
     "data": {
      "text/plain": [
       "3921225"
      ]
     },
     "execution_count": 13,
     "metadata": {},
     "output_type": "execute_result"
    }
   ],
   "source": [
    "len(all_break_points)"
   ]
  },
  {
   "cell_type": "markdown",
   "id": "dc176531-25d3-41b0-9f59-b62294ee0476",
   "metadata": {},
   "source": [
    "Instead, we will just look at some (one) randomly:"
   ]
  },
  {
   "cell_type": "code",
   "execution_count": 14,
   "id": "16e91f34-b4ba-4a02-8bf5-7ec520452055",
   "metadata": {},
   "outputs": [
    {
     "name": "stdout",
     "output_type": "stream",
     "text": [
      "Break points at 2885078 are (27, 63, 78, 92)\n"
     ]
    }
   ],
   "source": [
    "i = random.randint(0, len(all_break_points)-1)\n",
    "print('Break points at', i+1, 'are', all_break_points[i])"
   ]
  },
  {
   "cell_type": "markdown",
   "id": "9aea6bf8-fcd9-4b96-ad91-35599c27f8c3",
   "metadata": {
    "tags": []
   },
   "source": [
    "Now we get the actual intervals using the above random break points. Must use unique values."
   ]
  },
  {
   "cell_type": "code",
   "execution_count": 15,
   "id": "d79f8e91-2c33-484d-b8f6-a954f54edc7c",
   "metadata": {},
   "outputs": [
    {
     "data": {
      "text/plain": [
       "[15.57 - 38.3], [39.72 - 59.65], [59.89 - 71.61], [72.76 - 92.45], [96.37 - 155.3]"
      ]
     },
     "execution_count": 15,
     "metadata": {},
     "output_type": "execute_result"
    }
   ],
   "source": [
    "intervals = Intervals()\n",
    "break_points = all_break_points[i]\n",
    "\n",
    "intervals.set_classes_by_data2(list(break_points), unique_values)\n",
    "intervals"
   ]
  },
  {
   "cell_type": "markdown",
   "id": "be39754a-2c49-42c3-9dcf-745b09291fad",
   "metadata": {},
   "source": [
    "Intervals can also be set given a set of upper and lower bounds of the class:"
   ]
  },
  {
   "cell_type": "code",
   "execution_count": 16,
   "id": "d19040de-4a34-40bb-b6d6-e0f5f468cac2",
   "metadata": {},
   "outputs": [
    {
     "data": {
      "text/plain": [
       "[15.57 - 41.2], [41.21 - 60.66], [60.67 - 77.29], [77.3 - 100.1], [100.1 - 155.3]"
      ]
     },
     "execution_count": 16,
     "metadata": {},
     "output_type": "execute_result"
    }
   ],
   "source": [
    "intervals_x = Intervals()\n",
    "intervals_x_bounds = [ [15.57, 41.20], [41.21, 60.66], [60.67, 77.29], [77.30, 100.10], [100.10, 155.30] ]\n",
    "intervals_x.set_classes(intervals_x_bounds)\n",
    "intervals_x"
   ]
  },
  {
   "cell_type": "markdown",
   "id": "99af5c1d-6694-4da6-b674-6ff35f7320db",
   "metadata": {},
   "source": [
    "# Evaluating intervals"
   ]
  },
  {
   "cell_type": "markdown",
   "id": "f19ac818-0be0-4595-8060-08139267fff3",
   "metadata": {},
   "source": [
    "We can get the class assignment of each value in the data:"
   ]
  },
  {
   "cell_type": "code",
   "execution_count": 17,
   "id": "61bf33fe-dd43-4d1a-a5f9-005452353366",
   "metadata": {},
   "outputs": [],
   "source": [
    "classes = [intervals.get_class(v) for v in all_values]"
   ]
  },
  {
   "cell_type": "code",
   "execution_count": 18,
   "id": "1eec4b7f-bb5a-4557-917f-2b39680cc703",
   "metadata": {},
   "outputs": [
    {
     "data": {
      "text/plain": [
       "0.9083727642639287"
      ]
     },
     "execution_count": 18,
     "metadata": {},
     "output_type": "execute_result"
    }
   ],
   "source": [
    "gvf2(classes, all_values, numclass)"
   ]
  },
  {
   "cell_type": "code",
   "execution_count": 19,
   "id": "6bf109f2-9327-44a6-96d2-60e3b2881012",
   "metadata": {},
   "outputs": [
    {
     "data": {
      "text/plain": [
       "0.6959744206958494"
      ]
     },
     "execution_count": 19,
     "metadata": {},
     "output_type": "execute_result"
    }
   ],
   "source": [
    "oai(classes, all_values, all_areas, numclass)"
   ]
  },
  {
   "cell_type": "code",
   "execution_count": 20,
   "id": "05e487ae-1af8-40df-810b-5fbcce8c7d16",
   "metadata": {},
   "outputs": [
    {
     "data": {
      "text/plain": [
       "0.7661861433659755"
      ]
     },
     "execution_count": 20,
     "metadata": {},
     "output_type": "execute_result"
    }
   ],
   "source": [
    "class_counts = [ len([i for i in classes if i==j]) for j in range(numclass) ] \n",
    "class_means = [ sum([all_values[i] for i in range(m) if classes[i]==j])/float(class_counts[j])\n",
    "                for j in range(numclass) ]\n",
    "means = [ class_means[i] for i in classes ]\n",
    "moransi2(means, adjacency_list)"
   ]
  },
  {
   "cell_type": "code",
   "execution_count": 21,
   "id": "d5437c09-a39e-4c04-ab71-45a635deefc0",
   "metadata": {},
   "outputs": [
    {
     "data": {
      "text/plain": [
       "0.7185335804140077"
      ]
     },
     "execution_count": 21,
     "metadata": {},
     "output_type": "execute_result"
    }
   ],
   "source": [
    "bai(adjacency_list, all_values, classes)"
   ]
  },
  {
   "cell_type": "markdown",
   "id": "e4e2f389-6f32-4cd8-b603-63718e2fae75",
   "metadata": {},
   "source": [
    "Now we write two functions to wrap the code so we can use them repeatedly later. We assume the following variables available:\n",
    "\n",
    "-  `all_values`\n",
    "-  `unique_values`\n",
    "-  `all_areas`\n",
    "-  `numclass`"
   ]
  },
  {
   "cell_type": "code",
   "execution_count": 22,
   "id": "19803e84-90d6-4365-8021-11e37a55ffc3",
   "metadata": {},
   "outputs": [],
   "source": [
    "# given a set of intervals, returns a tuple of the four criteria values: GVF, OAI, Moran's I, BAI \n",
    "def eval_intervals(_intervals):\n",
    "    classes = [_intervals.get_class(i) for i in all_values]\n",
    "    class_counts = [ len([i for i in classes if i==j]) for j in range(numclass) ] \n",
    "    class_means = [ sum([all_values[i] for i in range(m) if classes[i]==j])/float(class_counts[j])\n",
    "                    for j in range(numclass) ]\n",
    "    means = [ class_means[i] for i in classes ]\n",
    "    o1 = gvf2(classes, all_values, numclass)\n",
    "    o2 = oai(classes, all_values, all_areas, numclass)\n",
    "    o3 = moransi2(means, adjacency_list)\n",
    "    o4 = bai(adjacency_list, all_values, classes)\n",
    "    return o1, o2, o3, o4\n",
    "\n",
    "# given a set of break points, returns a tuple that contains the intervals and a tuple of the four criteria values\n",
    "def eval_break_points(break_points):\n",
    "    intervals = Intervals()\n",
    "    intervals.set_classes_by_data2(list(break_points), unique_values)\n",
    "    return intervals, eval_intervals(intervals)"
   ]
  },
  {
   "cell_type": "code",
   "execution_count": 23,
   "id": "dac5955f-75c3-42d0-a18a-8a05d7c7fefb",
   "metadata": {},
   "outputs": [
    {
     "data": {
      "text/plain": [
       "([15.57 - 38.3], [39.72 - 59.65], [59.89 - 71.61], [72.76 - 92.45], [96.37 - 155.3],\n",
       " (0.9083727642639287,\n",
       "  0.6959744206958494,\n",
       "  0.7661861433659755,\n",
       "  0.7185335804140077))"
      ]
     },
     "execution_count": 23,
     "metadata": {},
     "output_type": "execute_result"
    }
   ],
   "source": [
    "eval_break_points(break_points)"
   ]
  },
  {
   "cell_type": "markdown",
   "id": "359647cf-ff24-496f-8704-a134107569fa",
   "metadata": {},
   "source": [
    "## Evaluating all intervals\n",
    "\n",
    "This part is where the major computation goes. There is no need to re-run this part because we can save the results from the computation and only use the result files in the later parts of this tutorial. We can either run the computation in parallel using the code immediately below, or run sequentially (which will take longer time).\n",
    "\n",
    "To run in parallel, we distribute the tasks to each of the CPUs (cores). The following code creates a list called `eval_jobs` that holds the break points to be distributed to each CPU:"
   ]
  },
  {
   "cell_type": "code",
   "execution_count": 24,
   "id": "4424d82c-4b55-4088-8227-df07f1c3f4c8",
   "metadata": {},
   "outputs": [],
   "source": [
    "# It is possible to just run for a subset of the breaks for a quick experiment. \n",
    "#To do so, we can sample a subset and then replace all_brks to sub_brks below.\n",
    "\n",
    "# subset_size = 50000\n",
    "# sub_brks = random.sample(all_break_points, subset_size)\n",
    "# all_break_points = sub_brks\n",
    "\n",
    "num_proc = cpu_count()\n",
    "n = len(all_break_points)\n",
    "\n",
    "num_to_proc = n//num_proc\n",
    "ranges = [num_to_proc for _ in range(num_proc)]\n",
    "ranges[-1] += n - sum(ranges)\n",
    "\n",
    "# sub_brks = random.sample(all_brks, subset_size)\n",
    "eval_jobs = []\n",
    "new_start = 0\n",
    "for i in ranges:\n",
    "    eval_jobs.append(all_break_points[new_start:new_start+i])\n",
    "    new_start += i"
   ]
  },
  {
   "cell_type": "markdown",
   "id": "24605fac-9d62-4f52-a7d8-c898777d659d",
   "metadata": {},
   "source": [
    "There is no guarantee that the break points will be perfectly divided, but it is close:"
   ]
  },
  {
   "cell_type": "code",
   "execution_count": 25,
   "id": "6d20c349-4041-4ef0-8bb0-d67aa10d3e5c",
   "metadata": {},
   "outputs": [
    {
     "data": {
      "text/plain": [
       "[326768,\n",
       " 326768,\n",
       " 326768,\n",
       " 326768,\n",
       " 326768,\n",
       " 326768,\n",
       " 326768,\n",
       " 326768,\n",
       " 326768,\n",
       " 326768,\n",
       " 326768,\n",
       " 326777]"
      ]
     },
     "execution_count": 25,
     "metadata": {},
     "output_type": "execute_result"
    }
   ],
   "source": [
    "[len(job) for job in eval_jobs]"
   ]
  },
  {
   "cell_type": "markdown",
   "id": "949c9d48-a602-4845-bfe2-59dc5511e26b",
   "metadata": {},
   "source": [
    "There are different libraries that can be used to parallelize the process. We will use [Ray](https://www.ray.io/) for this, but it is possible to use `multiprocessing` as well.\n",
    "\n",
    "To use Ray, we first initialize it and then develop a \"worker\" function that will be called to run concurrently. This should only be used once."
   ]
  },
  {
   "cell_type": "code",
   "execution_count": 26,
   "id": "33d06ccd-ac77-4fc6-8db1-3abdd819fa34",
   "metadata": {},
   "outputs": [],
   "source": [
    "# initialization \n",
    "ray.init()\n",
    "\n",
    "@ray.remote\n",
    "def run_eval(brks_list):\n",
    "    results = []\n",
    "    for brks in brks_list:\n",
    "        results.append(eval_break_points(brks))\n",
    "    return results"
   ]
  },
  {
   "cell_type": "markdown",
   "id": "3dabde12-5f54-407f-bc64-8234e741393a",
   "metadata": {},
   "source": [
    "Now, we simply call worker function in a list and use `ray.get` to reassemble the results into a list."
   ]
  },
  {
   "cell_type": "code",
   "execution_count": 27,
   "id": "ba22e1f0-878f-4d18-9095-f9f6f97e216d",
   "metadata": {
    "tags": []
   },
   "outputs": [],
   "source": [
    "t1 = time.time()\n",
    "refs = [run_eval.remote(eval_jobs[i]) for i in range(num_proc)] # creats ray objects\n",
    "t2 = time.time()\n",
    "all_results = [item for sub in ray.get(refs) for item in sub]   # fetch results\n",
    "t3 = time.time()"
   ]
  },
  {
   "cell_type": "markdown",
   "id": "bd4a5f2a-0683-4ddb-ab87-966da7d4440d",
   "metadata": {},
   "source": [
    "If we can watch the CPU processes, we should see the computer is running on all cylinders when the above code is run. A nice thing "
   ]
  },
  {
   "cell_type": "code",
   "execution_count": 28,
   "id": "bd34d3a5-1e5c-494c-a6a5-778722e8529c",
   "metadata": {},
   "outputs": [
    {
     "name": "stdout",
     "output_type": "stream",
     "text": [
      "Total 364.3776113986969 seconds ( 8.864456176757812 + 355.5131552219391 ) on 12 cores\n"
     ]
    }
   ],
   "source": [
    "t3 = time.time()\n",
    "print('Total', t3-t1, 'seconds (', t2-t1, '+', t3-t2, ') on', num_proc, 'cores')"
   ]
  },
  {
   "cell_type": "markdown",
   "id": "3586f56f-0fa4-46b9-84d1-6724fd31b910",
   "metadata": {},
   "source": [
    "On a computer Intel(R) Core(TM) i7-10710U CPU @ 1.10GHz with 12 cores, it took about 360.0 seconds or 6 minutes to run. "
   ]
  },
  {
   "cell_type": "code",
   "execution_count": 29,
   "id": "c21c8963-39b9-4330-bad1-291ae6e0c394",
   "metadata": {},
   "outputs": [],
   "source": [
    "# this cell is commented out. Uncomment to use multiprocessing to run the evaluation of all break points in paralle.\n",
    "\n",
    "# from multiprocessing import Process, Pool, Manager\n",
    "\n",
    "# def run_eval_mp(brks_list):\n",
    "#     # for brks in brks_list:\n",
    "#     #     results.append(eval_break_points(brks))\n",
    "#     results = []\n",
    "#     for brks in brks_list:\n",
    "#         results.append(eval_break_points(brks))\n",
    "#     return results\n",
    "\n",
    "# t1 = time.time()\n",
    "\n",
    "# pool = Pool(processes=num_proc)\n",
    "# x = pool.map(run_eval_mp, eval_jobs)     \n",
    "\n",
    "# # manager = Manager()\n",
    "# # all_results = manager.list()\n",
    "# # processes = [Process(target=run_eval_mp, args=(all_results, bl)) for bl in break_inputs]\n",
    "# # for p in processes:\n",
    "# #     p.start()\n",
    "# # for p in processes:\n",
    "# #     p.join()\n",
    "\n",
    "        \n",
    "# t2 = time.time()\n",
    "# print('Total time to run', len(all_break_points), 'break points is', t2-t1, 'seconds')"
   ]
  },
  {
   "cell_type": "markdown",
   "id": "56e9c1fe-4d01-4596-832a-9d0dc6b55973",
   "metadata": {},
   "source": [
    "We can also evaluate all the break points sequentially by un-commenting and running the following code cell. It will take significantly longer time to finish."
   ]
  },
  {
   "cell_type": "code",
   "execution_count": 30,
   "id": "fcf2bb1f-f5ae-4dcd-884b-52dfe5152a50",
   "metadata": {},
   "outputs": [],
   "source": [
    "# t1 = time.time()\n",
    "\n",
    "# all_results = [] # each item: [intervals, [obj1, obj2, obj3, obj4]]\n",
    "\n",
    "# # subset_size = 500\n",
    "# # sub_brks = random.sample(all_brks, subset_size)\n",
    "\n",
    "# n = len(all_brks)\n",
    "# num_ticks = 10\n",
    "# report_n = n//num_ticks\n",
    "# for i in range(n):\n",
    "#     brks = all_brks[i]\n",
    "#     res = eval_break_points(brks)\n",
    "#     all_results.append(res)\n",
    "#     if i%report_n==0:\n",
    "#         pr = '[{:{width}s}]'.format('#'*(1+i//report_n), width=num_ticks)\n",
    "#         print(pr, end='\\r')\n",
    "\n",
    "# t2 = time.time()\n",
    "# print()\n",
    "# print('Total time to run', n, 'break points sequentially is', t2-t1, 'seconds')\n"
   ]
  },
  {
   "cell_type": "markdown",
   "id": "b4bdf252-9303-481e-ae4c-32e4407acfe4",
   "metadata": {},
   "source": [
    "# Results\n",
    "\n",
    "Now we have the evaluations of all the break points. Let's quickly check some arbitrary results in the middle of all results:"
   ]
  },
  {
   "cell_type": "code",
   "execution_count": 31,
   "id": "2451a548-790b-4d7c-8ca0-b814d9130f1b",
   "metadata": {},
   "outputs": [
    {
     "data": {
      "text/plain": [
       "[([15.57 - 15.57], [15.93 - 15.93], [17.82 - 31.28], [31.66 - 84.84], [85.41 - 155.3],\n",
       "  (0.6800546273695852,\n",
       "   0.38584424473776535,\n",
       "   0.5619849417479952,\n",
       "   0.4375098821728764)),\n",
       " ([15.57 - 15.57], [15.93 - 15.93], [17.82 - 31.28], [31.66 - 85.41], [86.75 - 155.3],\n",
       "  (0.672478487916355,\n",
       "   0.37807627017552337,\n",
       "   0.5286381759176063,\n",
       "   0.43428117865071186)),\n",
       " ([15.57 - 15.57], [15.93 - 15.93], [17.82 - 31.28], [31.66 - 86.75], [87.87 - 155.3],\n",
       "  (0.6644891507151162,\n",
       "   0.37230798636972084,\n",
       "   0.48682146418165356,\n",
       "   0.4485431305458754))]"
      ]
     },
     "execution_count": 31,
     "metadata": {},
     "output_type": "execute_result"
    }
   ],
   "source": [
    "all_results[1000:1003]"
   ]
  },
  {
   "cell_type": "markdown",
   "id": "96c065f2-5497-4ca9-84bb-d86f578d2863",
   "metadata": {},
   "source": [
    "Again, each item in the list is a tupple where the second is the criteria values:"
   ]
  },
  {
   "cell_type": "code",
   "execution_count": 32,
   "id": "cc7d2578-7fb0-4b96-a500-f0ae59205f94",
   "metadata": {},
   "outputs": [
    {
     "data": {
      "text/plain": [
       "(0.0989541970871477,\n",
       " 0.04130497166173608,\n",
       " 0.3643874179382359,\n",
       " 0.03536711086374934)"
      ]
     },
     "execution_count": 32,
     "metadata": {},
     "output_type": "execute_result"
    }
   ],
   "source": [
    "res = all_results[0]\n",
    "res[1]"
   ]
  },
  {
   "cell_type": "markdown",
   "id": "7a5a9e8d-abe5-495f-b93b-9552312a4330",
   "metadata": {},
   "source": [
    "We will find the best for each objective and store them in a list called `extremes`. All the objectives are to maximize."
   ]
  },
  {
   "cell_type": "code",
   "execution_count": 33,
   "id": "f3a94032-b054-4a82-9ab1-34d84388dd11",
   "metadata": {},
   "outputs": [
    {
     "name": "stdout",
     "output_type": "stream",
     "text": [
      "Time to find extremes: 3.9086294174194336 seconds\n"
     ]
    }
   ],
   "source": [
    "t1 = time.time()\n",
    "\n",
    "extremes = [all_results[0], all_results[0], all_results[0], all_results[0]]\n",
    "for res in all_results:\n",
    "    for i in range(len(extremes)):\n",
    "        if res[1][i] > extremes[i][1][i]:\n",
    "            extremes[i] = res\n",
    "\n",
    "t2 = time.time()\n",
    "print('Time to find extremes:', t2-t1, 'seconds')"
   ]
  },
  {
   "cell_type": "code",
   "execution_count": 34,
   "id": "4d7bc48d-4cfb-4831-a60b-3e25c8859ac1",
   "metadata": {},
   "outputs": [
    {
     "data": {
      "text/plain": [
       "[([15.57 - 41.2], [45.4 - 60.66], [62.06 - 77.29], [79.66 - 100.1], [111.8 - 155.3],\n",
       "  (0.93133839170431,\n",
       "   0.7248757193031732,\n",
       "   0.756850123831985,\n",
       "   0.7386362917660153)),\n",
       " ([15.57 - 41.2], [45.4 - 55.44], [56.35 - 71.61], [72.76 - 100.1], [111.8 - 155.3],\n",
       "  (0.9255424539452779,\n",
       "   0.7302258224073982,\n",
       "   0.7795877972237811,\n",
       "   0.7036454940453977)),\n",
       " ([15.57 - 32.69], [33.26 - 41.2], [45.4 - 57.4], [57.49 - 71.61], [72.76 - 155.3],\n",
       "  (0.8308518898371546,\n",
       "   0.6298383413799542,\n",
       "   0.8624986397790059,\n",
       "   0.5338650205865424)),\n",
       " ([15.57 - 36.24], [37.57 - 49.38], [50.11 - 66.32], [67.04 - 96.37], [96.78 - 155.3],\n",
       "  (0.913668495355815,\n",
       "   0.6960041156585309,\n",
       "   0.7211905404181319,\n",
       "   0.7760082978629208))]"
      ]
     },
     "execution_count": 34,
     "metadata": {},
     "output_type": "execute_result"
    }
   ],
   "source": [
    "extremes"
   ]
  },
  {
   "cell_type": "code",
   "execution_count": 35,
   "id": "09d139a3-6a9e-4f27-87ff-f57e1333983c",
   "metadata": {},
   "outputs": [
    {
     "name": "stdout",
     "output_type": "stream",
     "text": [
      "GVF = 0.93133839170431\n",
      "OAI = 0.7302258224073982\n",
      "Moran's I = 0.8624986397790059\n",
      "BAI = 0.7760082978629208\n"
     ]
    }
   ],
   "source": [
    "# print optimum values\n",
    "objective_names = [ 'GVF', 'OAI', 'Moran\\'s I', 'BAI' ]\n",
    "\n",
    "for i in range(len(extremes)):\n",
    "    res = extremes[i]\n",
    "    print(objective_names[i], '=', res[1][i])"
   ]
  },
  {
   "cell_type": "markdown",
   "id": "b8540a1e-38af-4099-8d81-0a1bf54d1db0",
   "metadata": {},
   "source": [
    "We save the extremes into a file. Since the results include objects of the `Intervals` class, which cannot be directly serialized. We get the bounds of each class into a list and encode the extremes as a dictionary:"
   ]
  },
  {
   "cell_type": "code",
   "execution_count": 36,
   "id": "bb6d9fbc-1861-4026-8acf-9ac4494d4d45",
   "metadata": {},
   "outputs": [],
   "source": [
    "extremes_js = {\n",
    "    'gvf': [extremes[0][0].get_bounds(), extremes[0][1]],\n",
    "    'oai': [extremes[1][0].get_bounds(), extremes[1][1]],\n",
    "    'mi': [extremes[2][0].get_bounds(), extremes[2][1]],\n",
    "    'bai': [extremes[3][0].get_bounds(), extremes[3][1]]\n",
    "}"
   ]
  },
  {
   "cell_type": "markdown",
   "id": "f9218ffb-79bc-4c4b-83e6-4734234f3b5f",
   "metadata": {},
   "source": [
    "Then save it into a JSON file. This file has been uploaded to the [github repo](https://github.com/compgeog/choropleth-tradeoffs). "
   ]
  },
  {
   "cell_type": "code",
   "execution_count": 37,
   "id": "fc6b2798-3f6a-43a3-8f75-c553869b76ae",
   "metadata": {},
   "outputs": [],
   "source": [
    "dump_fname2 = 'extremes_results_5classes_il_farm_prod.json'\n",
    "with open(dump_fname2, 'w') as f:\n",
    "    json.dump(extremes_js, f)"
   ]
  },
  {
   "cell_type": "markdown",
   "id": "5ddce9b1-fcdc-4b6b-89ad-63dc71c317dd",
   "metadata": {},
   "source": [
    "## Sampling and sorting\n",
    "\n",
    "We can rank all the results. But it will take a long time. What we do instead is to sample 10,000 results randomly and sort these samples. This ranking process is called Pareto ranking. We will find the best of the results in the subset and then show them along with the four extreme results."
   ]
  },
  {
   "cell_type": "code",
   "execution_count": 38,
   "id": "52aedd9f-2cad-471f-be41-7aae07129c48",
   "metadata": {},
   "outputs": [],
   "source": [
    "# for a sample:\n",
    "sample_results = random.sample(all_results, 10000)"
   ]
  },
  {
   "cell_type": "markdown",
   "id": "d8555ae7-6630-4c35-9d74-d452f357096b",
   "metadata": {},
   "source": [
    "Save the samples and extremes for future use."
   ]
  },
  {
   "cell_type": "code",
   "execution_count": 39,
   "id": "640ea03d-8829-45f1-a642-a129df887004",
   "metadata": {},
   "outputs": [
    {
     "data": {
      "text/plain": [
       "([15.57 - 30.97], [31.19 - 33.82], [33.83 - 66.32], [67.04 - 67.04], [68.19 - 155.3],\n",
       " (0.7481836041265313,\n",
       "  0.5022055945018156,\n",
       "  0.7378507726459502,\n",
       "  0.38478176999993685))"
      ]
     },
     "execution_count": 39,
     "metadata": {},
     "output_type": "execute_result"
    }
   ],
   "source": [
    "sample_results[0]"
   ]
  },
  {
   "cell_type": "code",
   "execution_count": 46,
   "id": "fe783b65-c24f-42d9-9146-0f56ad6f10e3",
   "metadata": {},
   "outputs": [],
   "source": [
    "sample_results_js = {'samples': []}\n",
    "for s in sample_results:\n",
    "    sample_results_js['samples'].append([s[0].get_bounds(), s[1]])"
   ]
  },
  {
   "cell_type": "code",
   "execution_count": 49,
   "id": "4c06f8b1-3837-4ed4-b353-6fd38b4d30df",
   "metadata": {},
   "outputs": [],
   "source": [
    "dump_fname3 = 'sample_results_5classes_il_farm_prod.json'\n",
    "with open(dump_fname3, 'w') as f:\n",
    "    json.dump(sample_results_js, f)"
   ]
  },
  {
   "cell_type": "markdown",
   "id": "11498d06-51bc-4b01-83ef-5909e7f7589c",
   "metadata": {},
   "source": [
    "Both JSON files are stored in the [github repo](https://github.com/compgeog/choropleth-tradeoffs) and can be loaded directly. We show how to use them in a [separate notebook](https://github.com/compgeog/choropleth-tradeoffs/blob/main/explore_choropleth_results.ipynb). "
   ]
  }
 ],
 "metadata": {
  "kernelspec": {
   "display_name": "Python 3 (ipykernel)",
   "language": "python",
   "name": "python3"
  },
  "language_info": {
   "codemirror_mode": {
    "name": "ipython",
    "version": 3
   },
   "file_extension": ".py",
   "mimetype": "text/x-python",
   "name": "python",
   "nbconvert_exporter": "python",
   "pygments_lexer": "ipython3",
   "version": "3.9.5"
  }
 },
 "nbformat": 4,
 "nbformat_minor": 5
}
