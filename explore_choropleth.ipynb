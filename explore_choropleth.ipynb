{
 "cells": [
  {
   "cell_type": "markdown",
   "id": "0c3970bd-476c-401b-963a-12bb8d8c382a",
   "metadata": {},
   "source": [
    "<p><a href=\"https://colab.research.google.com/github/compgeog/choropleth-tradeoffs/blob/main/explore_choropleth.ipynb\" target=\"_blank\"><img src=\"https://colab.research.google.com/assets/colab-badge.svg\" alt=\"Open In Colab\"/></a></p>"
   ]
  },
  {
   "cell_type": "markdown",
   "id": "fe4762ed-4565-4118-b416-b640be7dcf5a",
   "metadata": {},
   "source": [
    "# Exploring Classification Tradeoffs for Choropleth Maps\n"
   ]
  },
  {
   "cell_type": "markdown",
   "id": "231f138a-c797-4b36-b2f8-66b58421006b",
   "metadata": {},
   "source": [
    "The following two cells contain commands that are used to install necessary libraries. They do not need to be run every time. They are commented out. "
   ]
  },
  {
   "cell_type": "code",
   "execution_count": null,
   "id": "3527d041-fa23-467a-b3de-aa5be4366ac3",
   "metadata": {
    "tags": []
   },
   "outputs": [],
   "source": [
    "!git clone git@github.com:gisalgs/geom.git \n",
    "!git clone git@github.com:gisalgs/spatialanalysis.git \n",
    "!git clone git@github.com:compgeog/cgl.git"
   ]
  },
  {
   "cell_type": "code",
   "execution_count": null,
   "id": "c41b618a-77ed-4e15-a288-299eb79ff8d6",
   "metadata": {},
   "outputs": [],
   "source": [
    "!pip install ray\n",
    "!pip install matplotlib"
   ]
  },
  {
   "cell_type": "code",
   "execution_count": null,
   "id": "3767a4df-2786-4b3d-81f1-3606c0c60695",
   "metadata": {},
   "outputs": [],
   "source": [
    "# from cgl.cgl import *"
   ]
  },
  {
   "cell_type": "markdown",
   "id": "0ab17919-8cf5-4e57-9967-139101200cdc",
   "metadata": {},
   "source": [
    "The following two cells make sure the necessary libraries and modules are imported to run the experiments in the rest of this notebook."
   ]
  },
  {
   "cell_type": "code",
   "execution_count": 1,
   "id": "bceaf9dd-58ea-45e9-8477-17b1d496598d",
   "metadata": {},
   "outputs": [],
   "source": [
    "from geom.shapex import *\n",
    "from spatialanalysis.moransi2 import *\n",
    "from cgl.cgl.util.get_adjacency_matrix import *\n",
    "from cgl.cgl.util.draw_polygons_shapex import *\n",
    "from cgl.cgl.util.get_attribute_by_name import *\n",
    "from cgl.cgl.util.evaluate_all import *\n",
    "from cgl.cgl.util.pareto_ranking import *\n",
    "from cgl.cgl.util.parallel_coordinates import *\n",
    "from cgl.cgl.util.xcolorbrewer import *\n",
    "from cgl.cgl.util.breakpoints2 import *"
   ]
  },
  {
   "cell_type": "code",
   "execution_count": 2,
   "id": "4e2b72cc-0b6a-4584-acea-68e6e699f75f",
   "metadata": {},
   "outputs": [],
   "source": [
    "import ray\n",
    "import time\n",
    "import random\n",
    "import pickle\n",
    "\n",
    "import matplotlib.pyplot as plt\n",
    "%matplotlib inline\n",
    "\n",
    "from os import cpu_count"
   ]
  },
  {
   "cell_type": "code",
   "execution_count": 3,
   "id": "bac550d6-0c96-4c7b-bc53-502b08476f06",
   "metadata": {},
   "outputs": [],
   "source": [
    "shpfname = 'data/il/il.shp'\n",
    "attrname = 'FARM_PROD'\n",
    "\n",
    "shp = shapex(shpfname)\n",
    "\n",
    "adjacency_list = adjacency_matrix(shp, output='L')\n",
    "\n",
    "all_values = get_shp_attribute_by_name(shp, attrname)\n",
    "all_areas = get_shp_attribute_by_name(shp, 'AREA')\n",
    "\n",
    "numclass = 5\n",
    "\n",
    "m = len(all_values) # number of data"
   ]
  },
  {
   "cell_type": "markdown",
   "id": "b6bef9bb-bd97-4ad8-b307-0f6c06f5954e",
   "metadata": {},
   "source": [
    "Get the unique values:"
   ]
  },
  {
   "cell_type": "code",
   "execution_count": 4,
   "id": "4c5b8131-16ec-493a-a76e-a8cb1faaa32d",
   "metadata": {},
   "outputs": [
    {
     "name": "stdout",
     "output_type": "stream",
     "text": [
      "101 102 15.57 155.3\n"
     ]
    }
   ],
   "source": [
    "unique_values = list(set(all_values))\n",
    "unique_values.sort()\n",
    "n = len(unique_values)\n",
    "print(n, m, min(unique_values), max(unique_values))"
   ]
  },
  {
   "cell_type": "code",
   "execution_count": 5,
   "id": "23bac5a9-d0ff-4432-8faa-9b6e2e2ba99c",
   "metadata": {},
   "outputs": [
    {
     "data": {
      "text/plain": [
       "(115181.34624100267, 4095659.5064726495, 455924.96284696716, 4712750.858482279)"
      ]
     },
     "execution_count": 5,
     "metadata": {},
     "output_type": "execute_result"
    }
   ],
   "source": [
    "shp.bounds"
   ]
  },
  {
   "cell_type": "code",
   "execution_count": 6,
   "id": "594eca69-8959-475e-89c3-9c1f7541addc",
   "metadata": {},
   "outputs": [
    {
     "data": {
      "text/plain": [
       "50.12"
      ]
     },
     "execution_count": 6,
     "metadata": {},
     "output_type": "execute_result"
    }
   ],
   "source": [
    "shp[0]['properties'][attrname]"
   ]
  },
  {
   "cell_type": "code",
   "execution_count": 7,
   "id": "7cdcd613-20d0-40ec-bd04-b7b9d74c00f3",
   "metadata": {},
   "outputs": [
    {
     "data": {
      "image/png": "[encoded data removed]",
      "text/plain": [
       "<Figure size 432x288 with 1 Axes>"
      ]
     },
     "metadata": {
      "needs_background": "light"
     },
     "output_type": "display_data"
    }
   ],
   "source": [
    "draw_shape(shp)\n",
    "plt.axis('off')\n",
    "plt.axis('equal')\n",
    "plt.show()"
   ]
  },
  {
   "cell_type": "markdown",
   "id": "e5ffd6b6-ccc7-4350-b922-1fe841dc6ff5",
   "metadata": {},
   "source": [
    "Now we generate all the break points. A Python iterator is implemented (in `breakpoints2.py`) to yield every sequential unique and non-repeating combination of the elements provided (such as a list of numbers) for a given length. [This stackoverlow page](http://stackoverflow.com/questions/127704/algorithm-to-return-all-combinations-of-k-elements-from-n) has some excellent sources for this type of algorithms. We call the `choose` function to get a list of all such combinations. For example, the following will return all the combinations of 2 numbers from a list [1, 2, 3]."
   ]
  },
  {
   "cell_type": "code",
   "execution_count": null,
   "id": "a645c325-cd54-4117-830d-4a860f320d6f",
   "metadata": {},
   "outputs": [],
   "source": [
    "choose([1, 2, 3], 2)"
   ]
  },
  {
   "cell_type": "markdown",
   "id": "0314c737-dcf1-4fb5-b41b-d1d001c43b75",
   "metadata": {},
   "source": [
    "And we can also find the combinations from a string of characters."
   ]
  },
  {
   "cell_type": "code",
   "execution_count": null,
   "id": "3c0efd71-a632-482b-9d03-ee82d678e748",
   "metadata": {},
   "outputs": [],
   "source": [
    "choose('foxy', 3)"
   ]
  },
  {
   "cell_type": "markdown",
   "id": "5c83dccc-739c-4e54-a73f-a67929f23d4f",
   "metadata": {},
   "source": [
    "For our data, we want to find the break points -- the positions where we can break the original, sorted data into a number of classes. If we have 10 numbers, there will be up to 9 break points. To create `numclass` classes, we will `numclass-1` break points."
   ]
  },
  {
   "cell_type": "code",
   "execution_count": null,
   "id": "2806a5f4-39ce-48d9-99e6-89ed3e96b92a",
   "metadata": {},
   "outputs": [],
   "source": [
    "all_brks = choose(range(n-1), numclass-1)"
   ]
  },
  {
   "cell_type": "markdown",
   "id": "b279223e-ab4c-494c-af06-1b0539d1f3cb",
   "metadata": {},
   "source": [
    "It is not a good idea to print them out, because there are really a lot (millions):"
   ]
  },
  {
   "cell_type": "code",
   "execution_count": null,
   "id": "52ae09db-df79-467a-a3e7-471ce22d96f0",
   "metadata": {},
   "outputs": [],
   "source": [
    "len(all_brks)"
   ]
  },
  {
   "cell_type": "markdown",
   "id": "dc176531-25d3-41b0-9f59-b62294ee0476",
   "metadata": {},
   "source": [
    "Instead, we will just look at some (one) randomly:"
   ]
  },
  {
   "cell_type": "code",
   "execution_count": null,
   "id": "16e91f34-b4ba-4a02-8bf5-7ec520452055",
   "metadata": {},
   "outputs": [],
   "source": [
    "i = random.randint(0, len(all_brks)-1)\n",
    "print('Break point', i+1, 'is', all_brks[i])"
   ]
  },
  {
   "cell_type": "markdown",
   "id": "9aea6bf8-fcd9-4b96-ad91-35599c27f8c3",
   "metadata": {
    "tags": []
   },
   "source": [
    "Now we get the actual intervals using the above random break points. Must use unique values."
   ]
  },
  {
   "cell_type": "code",
   "execution_count": null,
   "id": "d79f8e91-2c33-484d-b8f6-a954f54edc7c",
   "metadata": {},
   "outputs": [],
   "source": [
    "intervals = Intervals()\n",
    "brks = all_brks[i]\n",
    "\n",
    "intervals.set_classes_by_data2(list(brks), unique_values)\n",
    "intervals"
   ]
  },
  {
   "cell_type": "markdown",
   "id": "be39754a-2c49-42c3-9dcf-745b09291fad",
   "metadata": {},
   "source": [
    "Intervals can also be set given a set of bounds:"
   ]
  },
  {
   "cell_type": "code",
   "execution_count": null,
   "id": "d19040de-4a34-40bb-b6d6-e0f5f468cac2",
   "metadata": {},
   "outputs": [],
   "source": [
    "new_intervals = Intervals()\n",
    "new_bounds = [ [15.57, 41.20], [41.21, 60.66], [60.67, 77.29], [77.30, 100.10], [100.10, 155.30] ]\n",
    "new_intervals.set_classes(new_bounds)\n",
    "new_intervals"
   ]
  },
  {
   "cell_type": "markdown",
   "id": "2e56ffd7-1451-44c4-bccf-4712b7e515aa",
   "metadata": {},
   "source": [
    "## Using break points to draw a map"
   ]
  },
  {
   "cell_type": "markdown",
   "id": "bcb4dbc5-2f56-48fc-8b80-75c07b7cdc61",
   "metadata": {},
   "source": [
    "We first calculate the bounds of the map, which will be used later."
   ]
  },
  {
   "cell_type": "code",
   "execution_count": null,
   "id": "885debca-453c-48df-9e95-5b769315521c",
   "metadata": {},
   "outputs": [],
   "source": [
    "xmin, xmax = int(shp.bounds[0])-1, int(shp.bounds[2])+1\n",
    "ymin, ymax = int(shp.bounds[1]-1), int(shp.bounds[3]+1)"
   ]
  },
  {
   "cell_type": "markdown",
   "id": "729493bf-8ace-4e51-8f29-7efe209a98b0",
   "metadata": {},
   "source": [
    "We draw the map using the intervals stored in `intervals`:"
   ]
  },
  {
   "cell_type": "code",
   "execution_count": null,
   "id": "731b60f8-0cdc-46ad-bf98-63cdecdcc926",
   "metadata": {},
   "outputs": [],
   "source": [
    "# get the classes using the break points in intervals\n",
    "classes = [intervals.get_class(v) for v in all_values]\n",
    "\n",
    "# get the color scheme\n",
    "colors = get_colorbrewer_specs('Reds', numclass)\n",
    "\n",
    "# set up the canvas (ax0 is used in rect_legend)\n",
    "_, ax0 = plt.subplots()\n",
    "\n",
    "draw_shape(shp, classes, colors)\n",
    "\n",
    "box_w = (xmax-xmin)/5  # a fraction of the total with\n",
    "box_h = box_w*2/3      # slightly smaller than the width\n",
    "label_xgap = box_w / 3\n",
    "label_ygap = box_h * 0.2\n",
    "\n",
    "rect_legend(xmax*1.1, ymin, box_w, box_h, label_xgap, ax0, colors, ygap=label_ygap, edgecolor='grey', intervals=intervals)\n",
    "\n",
    "plt.axis('off')\n",
    "plt.axis('equal')\n",
    "plt.show()\n"
   ]
  },
  {
   "cell_type": "markdown",
   "id": "99af5c1d-6694-4da6-b674-6ff35f7320db",
   "metadata": {},
   "source": [
    "## Evaluating intervals"
   ]
  },
  {
   "cell_type": "markdown",
   "id": "f19ac818-0be0-4595-8060-08139267fff3",
   "metadata": {},
   "source": [
    "We can get the class assignment of each value in the data:"
   ]
  },
  {
   "cell_type": "code",
   "execution_count": null,
   "id": "61bf33fe-dd43-4d1a-a5f9-005452353366",
   "metadata": {},
   "outputs": [],
   "source": [
    "classes = [intervals.get_class(v) for v in all_values]"
   ]
  },
  {
   "cell_type": "code",
   "execution_count": null,
   "id": "1eec4b7f-bb5a-4557-917f-2b39680cc703",
   "metadata": {},
   "outputs": [],
   "source": [
    "gvf2(classes, all_values, numclass)"
   ]
  },
  {
   "cell_type": "code",
   "execution_count": null,
   "id": "6bf109f2-9327-44a6-96d2-60e3b2881012",
   "metadata": {},
   "outputs": [],
   "source": [
    "oai(classes, all_values, all_areas, numclass)"
   ]
  },
  {
   "cell_type": "code",
   "execution_count": null,
   "id": "05e487ae-1af8-40df-810b-5fbcce8c7d16",
   "metadata": {},
   "outputs": [],
   "source": [
    "class_counts = [ len([i for i in classes if i==j]) for j in range(numclass) ] \n",
    "class_means = [ sum([all_values[i] for i in range(m) if classes[i]==j])/float(class_counts[j])\n",
    "                for j in range(numclass) ]\n",
    "means = [ class_means[i] for i in classes ]\n",
    "moransi2(means, adjacency_list)"
   ]
  },
  {
   "cell_type": "code",
   "execution_count": null,
   "id": "d5437c09-a39e-4c04-ab71-45a635deefc0",
   "metadata": {},
   "outputs": [],
   "source": [
    "bai(adjacency_list, all_values, classes)"
   ]
  },
  {
   "cell_type": "markdown",
   "id": "e4e2f389-6f32-4cd8-b603-63718e2fae75",
   "metadata": {},
   "source": [
    "Now we write two functions to wrap the code so we can use them repeatedly later. We assume the following variables available:\n",
    "\n",
    "-  `all_values`\n",
    "-  `unique_values`\n",
    "-  `all_areas`\n",
    "-  `numclass`"
   ]
  },
  {
   "cell_type": "code",
   "execution_count": null,
   "id": "19803e84-90d6-4365-8021-11e37a55ffc3",
   "metadata": {},
   "outputs": [],
   "source": [
    "# given a set of intervals, returns a tuple of the four criteria values: GVF, OAI, Moran's I, BAI \n",
    "def eval_intervals(_intervals):\n",
    "    classes = [_intervals.get_class(i) for i in all_values]\n",
    "    class_counts = [ len([i for i in classes if i==j]) for j in range(numclass) ] \n",
    "    class_means = [ sum([all_values[i] for i in range(m) if classes[i]==j])/float(class_counts[j])\n",
    "                    for j in range(numclass) ]\n",
    "    means = [ class_means[i] for i in classes ]\n",
    "    o1 = gvf2(classes, all_values, numclass)\n",
    "    o2 = oai(classes, all_values, all_areas, numclass)\n",
    "    o3 = moransi2(means, adjacency_list)\n",
    "    o4 = bai(adjacency_list, all_values, classes)\n",
    "    return o1, o2, o3, o4\n",
    "\n",
    "# given a set of break points, returns a tuple that contains the intervals and a tuple of the four criteria values\n",
    "def eval_break_points(break_points):\n",
    "    intervals = Intervals()\n",
    "    intervals.set_classes_by_data2(list(break_points), unique_values)\n",
    "    return intervals, eval_intervals(intervals)"
   ]
  },
  {
   "cell_type": "code",
   "execution_count": null,
   "id": "dac5955f-75c3-42d0-a18a-8a05d7c7fefb",
   "metadata": {},
   "outputs": [],
   "source": [
    "eval_break_points(brks)"
   ]
  },
  {
   "cell_type": "markdown",
   "id": "359647cf-ff24-496f-8704-a134107569fa",
   "metadata": {},
   "source": [
    "## Evaluating all intervals\n",
    "\n",
    "This part is where the major computation goes. There is no need to re-run this part because we can save the results from the computation and only use the result files in the later parts of this tutorial. We can either run the computation in parallel using the code immediately below, or run sequentially (which will take longer time).\n",
    "\n",
    "To run in parallel, we distribute the tasks to each of the CPUs (cores). The following code creates a list called `break_inputs` that holds the break points to be distributed to each CPU:"
   ]
  },
  {
   "cell_type": "code",
   "execution_count": null,
   "id": "4424d82c-4b55-4088-8227-df07f1c3f4c8",
   "metadata": {},
   "outputs": [],
   "source": [
    "# It is possible to just run for a subset of the breaks for a quick experiment. To do so, we can sample a subset and then replace all_brks to sub_brks below.\n",
    "\n",
    "# subset_size = 50000\n",
    "# sub_brks = random.sample(all_brks, subset_size)\n",
    "# n = len(sub_brks)\n",
    "\n",
    "num_proc = cpu_count()\n",
    "n = len(all_brks)\n",
    "\n",
    "num_to_proc = n//num_proc\n",
    "ranges = [num_to_proc for _ in range(num_proc)]\n",
    "ranges[-1] += n - sum(ranges)\n",
    "\n",
    "# sub_brks = random.sample(all_brks, subset_size)\n",
    "break_inputs = []\n",
    "new_start = 0\n",
    "for i in ranges:\n",
    "    break_inputs.append(all_brks[new_start:new_start+i])\n",
    "    new_start += i"
   ]
  },
  {
   "cell_type": "markdown",
   "id": "24605fac-9d62-4f52-a7d8-c898777d659d",
   "metadata": {},
   "source": [
    "There is no guarantee that the break points will be perfectly divided, but it is close:"
   ]
  },
  {
   "cell_type": "code",
   "execution_count": null,
   "id": "6d20c349-4041-4ef0-8bb0-d67aa10d3e5c",
   "metadata": {},
   "outputs": [],
   "source": [
    "[len(bi) for bi in break_inputs]"
   ]
  },
  {
   "cell_type": "markdown",
   "id": "949c9d48-a602-4845-bfe2-59dc5511e26b",
   "metadata": {},
   "source": [
    "There are different libraries that can be used to parallelize the process. We will use `ray` for this, but it is possible to use `multiprocessing` as well.\n",
    "\n",
    "To use `ray`, we first initialize it and then develop a \"worker\" function that will be called to run concurrently. This should only be used once."
   ]
  },
  {
   "cell_type": "code",
   "execution_count": null,
   "id": "33d06ccd-ac77-4fc6-8db1-3abdd819fa34",
   "metadata": {},
   "outputs": [],
   "source": [
    "# initialization \n",
    "ray.init()\n",
    "\n",
    "@ray.remote\n",
    "def run_eval(brks_list):\n",
    "    results = []\n",
    "    for brks in brks_list:\n",
    "        results.append(eval_break_points(brks))\n",
    "    return results\n"
   ]
  },
  {
   "cell_type": "markdown",
   "id": "3dabde12-5f54-407f-bc64-8234e741393a",
   "metadata": {},
   "source": [
    "Now, we simply call worker function in a list and use `ray.get` to reassemble the results into a list."
   ]
  },
  {
   "cell_type": "code",
   "execution_count": null,
   "id": "ba22e1f0-878f-4d18-9095-f9f6f97e216d",
   "metadata": {
    "tags": []
   },
   "outputs": [],
   "source": [
    "t1 = time.time()\n",
    "futures = [run_eval.remote(break_inputs[i]) for i in range(num_proc)]\n",
    "t2 = time.time()\n",
    "all_results = [item for sub in ray.get(futures) for item in sub]\n",
    "t3 = time.time()"
   ]
  },
  {
   "cell_type": "markdown",
   "id": "bd4a5f2a-0683-4ddb-ab87-966da7d4440d",
   "metadata": {},
   "source": [
    "If we can watch the CPU processes, we should see the computer is running on all cylinders when the above code is run. A nice thing "
   ]
  },
  {
   "cell_type": "code",
   "execution_count": null,
   "id": "bd34d3a5-1e5c-494c-a6a5-778722e8529c",
   "metadata": {},
   "outputs": [],
   "source": [
    "t3 = time.time()\n",
    "print('Total', t3-t1, 'seconds (', t2-t1, '+', t3-t2, ') on', num_proc, 'cores')"
   ]
  },
  {
   "cell_type": "markdown",
   "id": "3586f56f-0fa4-46b9-84d1-6724fd31b910",
   "metadata": {},
   "source": [
    "On a computer Intel(R) Core(TM) i7-10710U CPU @ 1.10GHz with 12 cores, it took a total of 360 seconds or 6 minutes to run. "
   ]
  },
  {
   "cell_type": "code",
   "execution_count": null,
   "id": "c21c8963-39b9-4330-bad1-291ae6e0c394",
   "metadata": {},
   "outputs": [],
   "source": [
    "# this cell is commented out. Uncomment to use multiprocessing to run the evaluation of all break points in paralle.\n",
    "\n",
    "# from multiprocessing import Process, Pool, Manager\n",
    "\n",
    "# def run_eval_mp(brks_list):\n",
    "#     # for brks in brks_list:\n",
    "#     #     results.append(eval_break_points(brks))\n",
    "#     results = []\n",
    "#     for brks in brks_list:\n",
    "#         results.append(eval_break_points(brks))\n",
    "#     return results\n",
    "\n",
    "# t1 = time.time()\n",
    "\n",
    "# pool = Pool(processes=num_proc)\n",
    "# x = pool.map(run_eval_mp, break_inputs)     \n",
    "\n",
    "# # manager = Manager()\n",
    "# # all_results = manager.list()\n",
    "# # processes = [Process(target=run_eval_mp, args=(all_results, bl)) for bl in break_inputs]\n",
    "# # for p in processes:\n",
    "# #     p.start()\n",
    "# # for p in processes:\n",
    "# #     p.join()\n",
    "\n",
    "        \n",
    "# t2 = time.time()\n",
    "# print('Total time to run', len(all_brks), 'break points is', t2-t1, 'seconds')"
   ]
  },
  {
   "cell_type": "markdown",
   "id": "56e9c1fe-4d01-4596-832a-9d0dc6b55973",
   "metadata": {},
   "source": [
    "We can also evaluate all the break points sequentially by un-commenting and running the following code cell. It will take significantly longer time to finish."
   ]
  },
  {
   "cell_type": "code",
   "execution_count": null,
   "id": "fcf2bb1f-f5ae-4dcd-884b-52dfe5152a50",
   "metadata": {},
   "outputs": [],
   "source": [
    "# t1 = time.time()\n",
    "\n",
    "# all_results = [] # each item: [intervals, [obj1, obj2, obj3, obj4]]\n",
    "\n",
    "# # subset_size = 500\n",
    "# # sub_brks = random.sample(all_brks, subset_size)\n",
    "\n",
    "# n = len(all_brks)\n",
    "# num_ticks = 10\n",
    "# report_n = n//num_ticks\n",
    "# for i in range(n):\n",
    "#     brks = all_brks[i]\n",
    "#     res = eval_break_points(brks)\n",
    "#     all_results.append(res)\n",
    "#     if i%report_n==0:\n",
    "#         pr = '[{:{width}s}]'.format('#'*(1+i//report_n), width=num_ticks)\n",
    "#         print(pr, end='\\r')\n",
    "\n",
    "# t2 = time.time()\n",
    "# print()\n",
    "# print('Total time to run', n, 'break points sequentially is', t2-t1, 'seconds')\n"
   ]
  },
  {
   "cell_type": "markdown",
   "id": "b4bdf252-9303-481e-ae4c-32e4407acfe4",
   "metadata": {},
   "source": [
    "## Results\n",
    "\n",
    "Now we have the evaluations of all the break points. Let's quickly check some arbitrary results in the middle of all results:"
   ]
  },
  {
   "cell_type": "code",
   "execution_count": null,
   "id": "2451a548-790b-4d7c-8ca0-b814d9130f1b",
   "metadata": {},
   "outputs": [],
   "source": [
    "all_results[1000:1003]"
   ]
  },
  {
   "cell_type": "markdown",
   "id": "96c065f2-5497-4ca9-84bb-d86f578d2863",
   "metadata": {},
   "source": [
    "Again, each item in the list is a tupple where the second is the criteria values:"
   ]
  },
  {
   "cell_type": "code",
   "execution_count": null,
   "id": "cc7d2578-7fb0-4b96-a500-f0ae59205f94",
   "metadata": {},
   "outputs": [],
   "source": [
    "res = all_results[0]\n",
    "res[1]"
   ]
  },
  {
   "cell_type": "markdown",
   "id": "7a5a9e8d-abe5-495f-b93b-9552312a4330",
   "metadata": {},
   "source": [
    "We will find the best for each objective and store them in a list called `extremes`. All the objectives are to maximize."
   ]
  },
  {
   "cell_type": "code",
   "execution_count": null,
   "id": "f3a94032-b054-4a82-9ab1-34d84388dd11",
   "metadata": {},
   "outputs": [],
   "source": [
    "t1 = time.time()\n",
    "\n",
    "extremes = [all_results[0], all_results[0], all_results[0], all_results[0]]\n",
    "for res in all_results:\n",
    "    for i in range(len(extremes)):\n",
    "        if res[1][i] > extremes[i][1][i]:\n",
    "            extremes[i] = res\n",
    "\n",
    "t2 = time.time()\n",
    "print('Time to find extremes:', t2-t1, 'seconds')"
   ]
  },
  {
   "cell_type": "code",
   "execution_count": null,
   "id": "4d7bc48d-4cfb-4831-a60b-3e25c8859ac1",
   "metadata": {},
   "outputs": [],
   "source": [
    "extremes"
   ]
  },
  {
   "cell_type": "markdown",
   "id": "f757094d-d3ae-43aa-99db-739ec58829b8",
   "metadata": {},
   "source": [
    "We also hard code the results to keep a record so we don't have to re-run the above evaluation code (parallel or not) every time."
   ]
  },
  {
   "cell_type": "code",
   "execution_count": null,
   "id": "f215bd22-506b-40f1-b912-5ca02d43f303",
   "metadata": {},
   "outputs": [],
   "source": [
    "extremes_output = [[[15.57, 41.2], [45.4, 60.66], [62.06, 77.29], [79.66, 100.1], [111.8, 155.3],\n",
    "      (0.93133839170431,\n",
    "       0.7248757193031732,\n",
    "       0.756850123831985,\n",
    "       0.7386362917660153)],\n",
    "     [[15.57, 41.2], [45.4, 55.44], [56.35, 71.61], [72.76, 100.1], [111.8, 155.3],\n",
    "      (0.9255424539452779,\n",
    "       0.7302258224073982,\n",
    "       0.7795877972237811,\n",
    "       0.7036454940453977)],\n",
    "     [[15.57, 32.69], [33.26, 41.2], [45.4, 57.4], [57.49, 71.61], [72.76, 155.3],\n",
    "      (0.8308518898371546,\n",
    "       0.6298383413799542,\n",
    "       0.8624986397790059,\n",
    "       0.5338650205865424)],\n",
    "     [[15.57, 36.24], [37.57, 49.38], [50.11, 66.32], [67.04, 96.37], [96.78, 155.3],\n",
    "      (0.913668495355815,\n",
    "       0.6960041156585309,\n",
    "       0.7211905404181319,\n",
    "       0.7760082978629208)]]\n",
    "\n",
    "# recover from the previous output\n",
    "extremes = []\n",
    "for i in extremes_output:\n",
    "    new_intervals = Intervals()\n",
    "    new_bounds = i[:-1]\n",
    "    new_intervals.set_classes(new_bounds)\n",
    "    extremes.append([new_intervals, i[-1]])\n"
   ]
  },
  {
   "cell_type": "markdown",
   "id": "b8540a1e-38af-4099-8d81-0a1bf54d1db0",
   "metadata": {},
   "source": [
    "We save the extremes into a pickle so we can load them later."
   ]
  },
  {
   "cell_type": "code",
   "execution_count": null,
   "id": "e95be625-aa44-483a-bfde-f83fb78964af",
   "metadata": {},
   "outputs": [],
   "source": [
    "pickle_dump_fname2 = 'extremes_results_5classes_il_farm_prod.pickle'\n",
    "\n",
    "with open(pickle_dump_fname2, 'wb') as f:\n",
    "    pickle.dump(extremes, f)"
   ]
  },
  {
   "cell_type": "code",
   "execution_count": null,
   "id": "2abebe04-ec9e-4586-a67d-71a0da9d95e5",
   "metadata": {},
   "outputs": [],
   "source": [
    "# This shows how to load the data\n",
    "\n",
    "# with open(pickle_dump_fname2, 'rb') as f:\n",
    "#     extremes = pickle.load(f)"
   ]
  },
  {
   "cell_type": "code",
   "execution_count": null,
   "id": "09d139a3-6a9e-4f27-87ff-f57e1333983c",
   "metadata": {},
   "outputs": [],
   "source": [
    "# print optimum values\n",
    "objective_names = [ 'GVF', 'OAI', 'Moran\\'s I', 'BAI' ]\n",
    "\n",
    "for i in range(len(extremes)):\n",
    "    res = extremes[i]\n",
    "    print(objective_names[i], '=', res[1][i])"
   ]
  },
  {
   "cell_type": "markdown",
   "id": "83e5815f-e0e1-4cff-bc28-e770c0e68bd5",
   "metadata": {},
   "source": [
    "We can save all the results in a `pickle` file for future uses. The file will be very big. The following code cells (un-commenting needed) can be used to save and load the data."
   ]
  },
  {
   "cell_type": "code",
   "execution_count": null,
   "id": "5a0856f3-fd30-477a-96a9-81af2d78b9c5",
   "metadata": {},
   "outputs": [],
   "source": [
    "# pickle_dump_fname1 = 'all_results_5classes_il_farm_prod.pickle'\n",
    "\n",
    "# with open(pickle_dump_fname1, 'wb') as f:\n",
    "#     pickle.dump(all_results, f)"
   ]
  },
  {
   "cell_type": "code",
   "execution_count": null,
   "id": "edc3564c-b0c8-469c-810c-5f8793e1b97f",
   "metadata": {},
   "outputs": [],
   "source": [
    "# # to get it back, do this:\n",
    "\n",
    "# with open(pickle_dump_fname1, 'rb') as f:\n",
    "#     all_results = pickle.load(f)"
   ]
  },
  {
   "cell_type": "markdown",
   "id": "5ddce9b1-fcdc-4b6b-89ad-63dc71c317dd",
   "metadata": {},
   "source": [
    "### Sorting and sampling\n",
    "\n",
    "We can rank all the results. But it will take a long time. What we do instead is to sample 10,000 results randomly and sort these samples. This ranking process is called Pareto ranking. We will find the best of the results in the subset and then show them along with the four extreme results."
   ]
  },
  {
   "cell_type": "code",
   "execution_count": null,
   "id": "52aedd9f-2cad-471f-be41-7aae07129c48",
   "metadata": {},
   "outputs": [],
   "source": [
    "# for a sample:\n",
    "sample_results = random.sample(all_results, 10000)"
   ]
  },
  {
   "cell_type": "markdown",
   "id": "d8555ae7-6630-4c35-9d74-d452f357096b",
   "metadata": {},
   "source": [
    "Save the samples and extremes for future use."
   ]
  },
  {
   "cell_type": "code",
   "execution_count": null,
   "id": "d7698ac0-191a-48b2-8a7b-18ab96b6ae19",
   "metadata": {},
   "outputs": [],
   "source": [
    "# dump the list to pickle\n",
    "    \n",
    "pickle_dump_fname3 = 'sample_results_5classes_il_farm_prod.pickle'\n",
    "\n",
    "with open(pickle_dump_fname3, 'wb') as f:\n",
    "    pickle.dump(sample_results, f)"
   ]
  },
  {
   "cell_type": "markdown",
   "id": "31660a63-8a95-4b2d-ab5a-36648f96a91c",
   "metadata": {},
   "source": [
    "The samples and extremes can be loaded without running the code again:"
   ]
  },
  {
   "cell_type": "code",
   "execution_count": null,
   "id": "c17a8831-f1d8-402e-9a4e-0043d04e16e6",
   "metadata": {},
   "outputs": [],
   "source": [
    "# to get it back, do this:\n",
    "\n",
    "# with open(pickle_dump_fname3, 'rb') as f:\n",
    "#     sample_results = pickle.load(f)"
   ]
  },
  {
   "cell_type": "markdown",
   "id": "241152ca-8010-41f5-83b0-75db3a73781c",
   "metadata": {},
   "source": [
    "Sort the samples:"
   ]
  },
  {
   "cell_type": "code",
   "execution_count": null,
   "id": "b09e1787-0ab1-473e-8000-b362b811dedf",
   "metadata": {},
   "outputs": [],
   "source": [
    "t3 = time.time()\n",
    "\n",
    "sample_objs = [res[1] for res in sample_results]\n",
    "sample_ranks = pareto_ranking(sample_objs, minimize=False, verbose=True)\n",
    "\n",
    "t4 = time.time()\n",
    "print('total time to rank is', t4-t3, 'seconds')"
   ]
  },
  {
   "cell_type": "markdown",
   "id": "b36bc585-e2ce-41d9-b37a-5669ede30005",
   "metadata": {},
   "source": [
    "Similar to what we did to all the results, we want to find the extreme values in the samples:"
   ]
  },
  {
   "cell_type": "code",
   "execution_count": null,
   "id": "8b217b73-a32f-4e0c-84ec-404f7a6a3898",
   "metadata": {},
   "outputs": [],
   "source": [
    "sample_bests = []\n",
    "\n",
    "for i in range(4):\n",
    "    os = [x[1][i] for x in all_results]\n",
    "    osmax = max(os)\n",
    "    idx = os.index(osmax)\n",
    "    sample_bests.append(idx)\n",
    "    \n",
    "sample_bests_objs = [all_results[sample_bests[i]][1] for i in range(4)]"
   ]
  },
  {
   "cell_type": "code",
   "execution_count": null,
   "id": "0439bc27-8685-45f1-a56b-e0be4f855235",
   "metadata": {},
   "outputs": [],
   "source": [
    "sample_bests_objs"
   ]
  },
  {
   "cell_type": "code",
   "execution_count": null,
   "id": "45268134-3daf-4c62-bfe6-502b9e2d5484",
   "metadata": {},
   "outputs": [],
   "source": [
    "sample_bests"
   ]
  },
  {
   "cell_type": "code",
   "execution_count": null,
   "id": "16f18173-443f-44e1-ad18-cc2db42a705b",
   "metadata": {},
   "outputs": [],
   "source": [
    "# confusing names\n",
    "\n",
    "# bests = []\n",
    "# for i in range(4):\n",
    "#     os = [x[1][i] for x in all_results]\n",
    "#     osmax = max(os)\n",
    "#     idx = os.index(osmax)\n",
    "#     bests.append(idx)"
   ]
  },
  {
   "cell_type": "code",
   "execution_count": null,
   "id": "fb105e5c-9e87-4b65-8e03-077329a9d5c1",
   "metadata": {},
   "outputs": [],
   "source": [
    "# print(all_results[bests[0]][1])\n",
    "# print(all_results[bests[1]][1])\n",
    "# print(all_results[bests[2]][1])\n",
    "# print(all_results[bests[3]][1])\n"
   ]
  },
  {
   "cell_type": "markdown",
   "id": "bcedcbc1-ea6e-4d41-8ead-11cbe88affa8",
   "metadata": {},
   "source": [
    "Separate the nondominated solutions in the samples:"
   ]
  },
  {
   "cell_type": "code",
   "execution_count": null,
   "id": "d8694f4c-2d68-4f4d-a4ae-60bf1c49be0f",
   "metadata": {},
   "outputs": [],
   "source": [
    "nondominated = [sample_results[i] for i in range(len(sample_ranks)) if sample_ranks[i]==1]\n",
    "dominated = [sample_results[i] for i in range(len(sample_ranks)) if sample_ranks[i]!=1]"
   ]
  },
  {
   "cell_type": "markdown",
   "id": "06f27ecd-af09-4404-bff6-7f42183f496a",
   "metadata": {},
   "source": [
    "The number of nondominated solutions varies among different samples."
   ]
  },
  {
   "cell_type": "code",
   "execution_count": null,
   "id": "e255c3dc-d67a-4d89-a000-42a55108be47",
   "metadata": {},
   "outputs": [],
   "source": [
    "len(nondominated)"
   ]
  },
  {
   "cell_type": "code",
   "execution_count": null,
   "id": "4183394e-5ffd-4950-ac22-1b0b006be9c7",
   "metadata": {},
   "outputs": [],
   "source": [
    "nondominated[0]"
   ]
  },
  {
   "cell_type": "markdown",
   "id": "5646f2d3-37a2-4402-bbff-96ddabd1913f",
   "metadata": {},
   "source": [
    "Now we make a parallel coordinates plot to show the four extreme solutions, the nondominated and dominated solutions in the samples."
   ]
  },
  {
   "cell_type": "code",
   "execution_count": null,
   "id": "3efd1561-4c90-4c2f-8d2a-2e5c465ad71b",
   "metadata": {},
   "outputs": [],
   "source": [
    "# from parallel_coordinates import pcpx\n",
    "\n",
    "objective_names = [ 'GVF', 'OAI', 'Moran\\'s I', 'BAI' ]\n",
    "bounds = [[0, 1] for i in range(4)]\n",
    "\n",
    "best_objs = [v[1] for v in extremes] \n",
    "\n",
    "nondominated_objs = [res[1] for res in nondominated]\n",
    "dominated_objs = [res[1] for res in dominated]\n",
    "\n",
    "colors = ['lightgrey']*len(dominated) + ['grey']*len(nondominated) + ['orange']*4\n",
    "legend_labels = ['dominated']*len(dominated) + ['non-dominated']*len(nondominated) + ['4 extremes']*len(best_objs)\n",
    "\n",
    "pcpx(dominated_objs + nondominated_objs + best_objs, \n",
    "     bounds=bounds, style=colors, labels=objective_names, \n",
    "     legend_labels=legend_labels, legend_loc=2, bbox_to_anchor=(1, 1))\n",
    "\n",
    "plt.show()"
   ]
  },
  {
   "cell_type": "markdown",
   "id": "201a8bb3-e8e2-4212-a11f-36a5af1affdf",
   "metadata": {},
   "source": [
    "## Mapping\n",
    "\n",
    "Show good maps. Each of the four maps in the top row has one of the extreme values in the parallel coordinate plot. The ones in the second row are samples from the non-dominated maps (but none of them exhibits the extreme values)."
   ]
  },
  {
   "cell_type": "markdown",
   "id": "fcd5118d-5db6-4774-bab5-18b88416d114",
   "metadata": {},
   "source": [
    "We first draw the four maps with the extreme solutions."
   ]
  },
  {
   "cell_type": "code",
   "execution_count": null,
   "id": "c5f2a53b-478e-40d0-a110-3af052b23fe6",
   "metadata": {},
   "outputs": [],
   "source": []
  },
  {
   "cell_type": "code",
   "execution_count": null,
   "id": "97604e74-2a59-475f-96b9-0fc368268ac3",
   "metadata": {},
   "outputs": [],
   "source": [
    "fig, ax2 = plt.subplots(3, 4, sharey=True, sharex=True)\n",
    "fig.subplots_adjust(wspace=0)\n",
    "fig.subplots_adjust(hspace=0)\n",
    "fig.set_figheight(16)\n",
    "fig.set_figwidth(16)\n",
    "\n",
    "colors = get_colorbrewer_specs('Blues', numclass)\n",
    "objective_names = [ 'GVF', 'OAI', 'M. I', 'BAI' ]\n",
    "\n",
    "box_w = (xmax-xmin)/5  # a fraction of the total with\n",
    "box_h = box_w*2/3      # slightly smaller than the width\n",
    "label_xgap = box_w / 3\n",
    "label_ygap = box_h * 0.2\n",
    "\n",
    "for axes in ax2:\n",
    "    for ax in axes:\n",
    "        ax.set_xticks([])\n",
    "        ax.set_yticks([])\n",
    "\n",
    "for j in range(4):\n",
    "    ax = ax2[0, j]\n",
    "    ax.set_xlim(xmin, xmax)\n",
    "    ax.set_ylim(ymin, ymax)\n",
    "    ax.set_aspect(1)\n",
    "    # myintervals = allintervals[bests[j]]\n",
    "    intervals = extremes[j][0]\n",
    "    classes = [intervals.get_class(i) for i in all_values] \n",
    "    #vector = driver.Open(shpfname, 0)\n",
    "    #layer = vector.GetLayer(0)\n",
    "    draw_shape(shp, classes, colors, axis=ax)\n",
    "    rect_legend(xmax*1.1, ymin, box_w, box_h, label_xgap, ax, colors, ygap=label_ygap, edgecolor='grey', intervals=myintervals)\n",
    "    objs = extremes[j][1]\n",
    "    ax.text(xmin*1.1, ymax+box_h, 'Extreme: {}'.format(objective_names[j]), weight='bold')\n",
    "    for i in range(4):\n",
    "        ax.text(xmax*1.1, ymax-i*box_h, '{}:{:10.4} {}'.format(objective_names[i], objs[i], '*' if i==j else ''))\n",
    "\n",
    "#     mark_make_label(xmin+1.0, ymin+1.0, ax, objs)\n",
    "    \n",
    "four_maps = random.sample(nondominated, 4)\n",
    "\n",
    "for j in range(4):\n",
    "    ax = ax2[1, j]\n",
    "    ax.set_xlim(xmin*0.9, xmax*1.7)\n",
    "    ax.set_ylim(ymin*0.97, ymax*1.03)\n",
    "    ax.set_aspect(1)\n",
    "    intervals = four_maps[j][0]\n",
    "    classes = [intervals.get_class(i) for i in all_values] \n",
    "    draw_shape(shp, classes, colors, axis=ax)\n",
    "    rect_legend(xmax*1.1, ymin, box_w, box_h, label_xgap, ax, colors, ygap=label_ygap, edgecolor='grey', intervals=myintervals)\n",
    "    objs = four_maps[j][1]\n",
    "    ax.text(xmin*1.1, ymax+box_h, 'Nondominated sample: {}'.format(objective_names[j]), weight='bold')\n",
    "    for i in range(4):\n",
    "        ax.text(xmax*1.1, ymax-i*box_h, '{}:{:10.4} {}'.format(objective_names[i], objs[i], '*' if i==j else ''))\n",
    "\n",
    "four_maps2 = random.sample(dominated, 4)\n",
    "\n",
    "for j in range(4):\n",
    "    ax = ax2[2, j]\n",
    "    ax.set_xlim(xmin*0.9, xmax*1.7)\n",
    "    ax.set_ylim(ymin*0.97, ymax*1.03)\n",
    "    ax.set_aspect(1)\n",
    "    intervals = four_maps2[j][0]\n",
    "    classes = [intervals.get_class(i) for i in all_values] \n",
    "    draw_shape(shp, classes, colors, axis=ax)\n",
    "    rect_legend(xmax*1.1, ymin, box_w, box_h, label_xgap, ax, colors, ygap=label_ygap, edgecolor='grey', intervals=myintervals)\n",
    "    objs = four_maps2[j][1]\n",
    "    ax.text(xmin*1.1, ymax+box_h, 'Dominated sample {}'.format(j), weight='bold')\n",
    "    for i in range(4):\n",
    "        ax.text(xmax*1.1, ymax-i*box_h, '{}:{:10.4}'.format(objective_names[i], objs[i]))\n",
    "\n",
    "plt.show()"
   ]
  },
  {
   "cell_type": "code",
   "execution_count": null,
   "id": "3367ed0d-3b18-44e5-beba-bb5c525bf4b0",
   "metadata": {},
   "outputs": [],
   "source": []
  }
 ],
 "metadata": {
  "kernelspec": {
   "display_name": "Python 3 (ipykernel)",
   "language": "python",
   "name": "python3"
  },
  "language_info": {
   "codemirror_mode": {
    "name": "ipython",
    "version": 3
   },
   "file_extension": ".py",
   "mimetype": "text/x-python",
   "name": "python",
   "nbconvert_exporter": "python",
   "pygments_lexer": "ipython3",
   "version": "3.9.5"
  }
 },
 "nbformat": 4,
 "nbformat_minor": 5
}
